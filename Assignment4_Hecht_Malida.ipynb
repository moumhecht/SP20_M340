{
 "cells": [
  {
   "cell_type": "code",
   "execution_count": 1,
   "metadata": {},
   "outputs": [],
   "source": [
    "import numpy as np\n",
    "import matplotlib.pyplot as plt\n",
    "%matplotlib inline"
   ]
  },
  {
   "cell_type": "markdown",
   "metadata": {},
   "source": [
    "**1a.** Using $$\\cos(x) = \\sum_{j=0}^{\\infty}  \\frac{(-1)^jx^{2j}}{(2j)!}, \\hspace{2pt} \\sin(x) = \\sum_{j=0}^{\\infty} \\frac{(-1)^jx^{2j+1}}{(2j+1)!}$$\n",
    "show that $$\\frac{d}{dx}\\cos(x) = -\\sin(x)$$"
   ]
  },
  {
   "cell_type": "markdown",
   "metadata": {},
   "source": [
    "**Problem 1a**\n",
    "$$\\begin{aligned}\n",
    "\\frac{d}{dx}\\cos(x)  &=\\frac{d}{dx}\\sum_{j=0}^{\\infty}  \\frac{(-1)^jx^{2j}}{(2j)!} \\\\\n",
    "&= \\sum_{j=1}^{\\infty} \\frac{(-1)^j (2j) x^{2j-1}}{(2j)!} \\\\\n",
    "&= \\sum_{j=1}^{\\infty} \\frac{(-1)^j x^{2j-1}}{(2j-1)!} \\\\\n",
    "&= \\sum_{j=0}^{\\infty} \\frac{(-1)^{j+1} x^{2(j+1)-1}}{(2(j+1)-1)!} \\\\ \n",
    "&= \\sum_{j=0}^{\\infty} \\frac{(-1)^{j+1} x^{2j+1}}{(2j+1)!} \\\\\n",
    "&= -\\sum_{j=0}^{\\infty} \\frac{(-1)^{j} x^{2j+1}}{(2j+1)!} \\\\\n",
    "&= -\\sin(x)\n",
    "\\end{aligned}$$"
   ]
  },
  {
   "cell_type": "markdown",
   "metadata": {},
   "source": [
    "**1.b** Using\n",
    "$$\\frac{1}{1-t}= \\sum_{j=0}^{\\infty} t^j, \\hspace{2pt} |t|<1  \\textrm{ and } \\ln(1+x) = \\int_0^x \\frac{dt}{1+t}, \\hspace{2pt} x\\in(-1,\\infty)$$\n",
    "show that\n",
    "$$\\ln(1+x) = \\sum_{j=1}^{\\infty}(-1)^{j-1} \\frac{x^j}{j}$$"
   ]
  },
  {
   "cell_type": "markdown",
   "metadata": {},
   "source": [
    "**Problem 1.b**\n",
    "$$\\begin{aligned}\\ln(1+x) = \\int_0^x \\frac{dt}{1-(-t)} &= \\int_0^x \\bigg(\\sum_{j=0}^{\\infty}(-t)^j \\bigg)dt\\\\\n",
    "&= \\sum_{j=0}^{\\infty}(-1)^j\\bigg(\\int_0^x t^j \\bigg)dt \\\\\n",
    "&  = \\sum_{j=0}^{\\infty}(-1)^j \\bigg( \\frac{1}{j+1}t^{j+1}\\bigg)\\bigg\\rvert_0 ^x\\\\\n",
    "&= \\sum_{j=0}^{\\infty}(-1)^j\\bigg( \\frac{1}{j+1}x^{j+1}\\bigg) \\\\\n",
    "&= \\sum_{j=1}^{\\infty}(-1)^{j-1}\\bigg( \\frac{x^j}{j}\\bigg) \\\n",
    "\\end{aligned}$$"
   ]
  },
  {
   "cell_type": "markdown",
   "metadata": {},
   "source": [
    "**2.a** Find a recursive relationship for $$a_j = \\frac{1}{(j+1)!}, \\hspace{2pt} j \\geq 0$$"
   ]
  },
  {
   "cell_type": "markdown",
   "metadata": {},
   "source": [
    "**Problem 2.a**\n",
    "$$\\frac{a_{j}}{a_{j-1}} = \\frac{\\frac{1}{(j+1)!}}{\\frac{1}{j!}}= \\frac{j!}{(j+1)!} = \\frac{j!}{(j+1) j!}=\\frac{1}{j+1}$$\n",
    "$$a_j = \\frac{a_{j-1}}{j+1}, \\hspace{2pt} a_0 = \\frac{1}{(0+1)!} = \\frac{1}{1} = 1$$\n",
    "$$a_j = \\begin{cases}\n",
    "1 & j=0 \\\\\n",
    "\\frac{a_{j-1}}{j+1} & j \\geq 1 \\end{cases}$$"
   ]
  },
  {
   "cell_type": "markdown",
   "metadata": {},
   "source": [
    "**2.b** Find a recursive relationship for $$a_j = \\frac{9^j}{(2j+1)!}, \\hspace{2pt} j \\geq 0$$"
   ]
  },
  {
   "cell_type": "markdown",
   "metadata": {},
   "source": [
    "**Problem 2.b**\n",
    "$$\\frac{a_j}{a_{j-1}} = \\frac{\\frac{9^j}{(2j+1)!}}{\\frac{9^{j-1}}{(2(j-1)+1)!}} =\\frac{9^j}{(2j+1)!}\\frac{(2j-2+1)!}{9^{j-1}} = \\frac{9^j}{(2j+1)(2j)(2j-1)!}\\frac{(2j-1)!}{j^{j-1}}= \\frac{9}{(2j+1)(2j)}$$\n",
    "$$a_j = \\frac{9}{(2j+1)(2j)}(a_{j-1}),\\hspace{2pt} a_0 = \\frac{9^0 }{(0+1)!}= \\frac{1}{1} = 1$$\n",
    "$$a_j = \\begin{cases}\n",
    "1 & j=0 \\\\\n",
    " \\frac{9}{(2j+1)(2j)}(a_{j-1}) & j \\geq 1 \\end{cases}$$"
   ]
  },
  {
   "cell_type": "markdown",
   "metadata": {},
   "source": [
    "**2.c** Find a recursive relationship for $$a_j = \\frac{x^j}{j!}, \\hspace{2pt} j \\geq 0$$"
   ]
  },
  {
   "cell_type": "markdown",
   "metadata": {},
   "source": [
    "**Problem 2.c** \n",
    "$$\\frac{a_j(x)}{a_{j-1}(x)} = \\frac{\\frac{x^j}{j!}}{\\frac{x^{j-1}}{(j-1)!}}= \\frac{x^j}{j!}\\frac{(j-1)!}{x^{j-1}} = \\frac{x}{j}$$\n",
    "$$a_j(x) = \\frac{x}{j}\\cdot a_{j-1}(x)$$\n",
    "$$a_0 (x) = \\frac{x^0}{0!}=\\frac{1}{1} = 1$$\n",
    "$$a_j(x) = \\begin{cases}\n",
    "1 & j=0 \\\\\n",
    "\\frac{x}{j}\\cdot a_{j-1}(x) & j \\geq 1 \\end{cases}$$"
   ]
  },
  {
   "cell_type": "markdown",
   "metadata": {},
   "source": [
    "**2.d** Find a recursive relationship for $$a_j = \\frac{(-1)^jx^{2j}}{(2j)!}, \\hspace{2pt} j \\geq 0$$"
   ]
  },
  {
   "cell_type": "markdown",
   "metadata": {},
   "source": [
    "**Problem 2.d**\n",
    "$$\\frac{a_j(x)}{a_{j-1}(x)} = \\frac{\\frac{(-1)^jx^{2j}}{(2j)!}}{\\frac{(-1)^{j-1}x^{2(j-1)}}{(2(j-1))!}} =\\frac{(-1)^jx^{2j}}{(2j)!}\\frac{(2(j-1))!}{(-1)^{j-1}x^{2(j-1)}} =\\frac{(-1)^jx^{2j}}{(2j)(2j-1)(2j-2)!} \\frac{(2j-2)!}{(-1)^{j-1}x^{2j-2}}=-\\frac{x^2}{(2j)(2j-1)}$$\n",
    "$$a_j(x) =- \\frac{x^2}{(2j)(2j-1)}a_{j-1}(x), \\hspace{2pt} a_0(x) = \\frac{(-1)^0x^0}{(0)!}=\\frac{1}{1}= 1$$\n",
    "$$a_j(x) = \\begin{cases}\n",
    "1 & j=0 \\\\\n",
    "- \\frac{x^2}{(2j)(2j-1)}a_{j-1}(x) & j \\geq 1 \\end{cases}$$"
   ]
  },
  {
   "cell_type": "markdown",
   "metadata": {},
   "source": [
    "**2.e** For $n$, a positive integer, find a recursive relationship for\n",
    " $$a_j = \\frac{1}{j!(n+j)}\\bigg(\\frac{x}{2}\\bigg)^{2j}, \\hspace{2pt} j \\geq 0$$"
   ]
  },
  {
   "cell_type": "markdown",
   "metadata": {},
   "source": [
    "**Problem 2.e**\n",
    "$$\\frac{a_j(x)}{a_{j-1}(x)} = \\frac{\\frac{x^{2j}}{j!(n+j)!2^{2j}}}{\\frac{x^{2(j-1)}}{(j-1)!(n+j1)!2^{2(j-1)}}} = \\frac{x^{2j}}{j!(n+j)!2^{2j}}\\cdot\\frac{(j-1)!(n+j-1)!2^{2j-2}}{x^{2j-2}} = \\bigg(\\frac{x}{2}\\bigg)^2\\frac{1}{j(n+j)}$$\n",
    "\n",
    "$$a_j(x) =\\bigg(\\frac{x}{2}\\bigg)^2\\frac{1}{j(n+j)}a_{j-1}(x), \\hspace{5pt} a_0(x) = \\frac{1}{(0)!}\\frac{1}{(n+0)!}\\bigg(\\frac{x}{2}\\bigg)^0=\\frac{1}{n!}$$\n",
    "\n",
    "$$a_j(x) = \\begin{cases}\n",
    "\\frac{1}{n!} & j=0 \\\\\n",
    "\\big(\\frac{x}{2}\\big)^2\\frac{1}{j(n+j)}a_{j-1}(x) & j \\geq 1 \\end{cases}$$"
   ]
  },
  {
   "cell_type": "markdown",
   "metadata": {},
   "source": [
    "**Problem 3** Using the given Python function for computing\n",
    "$$\\cos(x)\\approx T_{2n}(x)= \\sum_{j=0}^n(-1)^j\\frac{x^{2j}}{(2j)!}$$\n",
    "produce a plot which compares the various Taylor series approximations for $n = 1,2,3,4$ over the interval $[-1,3]$. Describe over which intervals each $T_{2n}(x)$ appears to be a valid approximation and at what point you would describe the approximation breaking down."
   ]
  },
  {
   "cell_type": "code",
   "execution_count": 2,
   "metadata": {},
   "outputs": [],
   "source": [
    "def tn_approx(x,n): #function for taylor series approximation\n",
    "    tot = 1.#initialize sum\n",
    "    term = 1. #initialize term\n",
    "    for jj in range(1,n+1):\n",
    "        term *= -x**2./((2*jj)*(2*jj-1)) #update term for jth term\n",
    "        tot += term #update sum\n",
    "    return tot"
   ]
  },
  {
   "cell_type": "code",
   "execution_count": 7,
   "metadata": {},
   "outputs": [
    {
     "name": "stderr",
     "output_type": "stream",
     "text": [
      "C:\\Users\\Malida\\Anaconda3\\lib\\site-packages\\ipykernel_launcher.py:24: MatplotlibDeprecationWarning: Adding an axes using the same arguments as a previous axes currently reuses the earlier instance.  In a future version, a new instance will always be created and returned.  Meanwhile, this warning can be suppressed, and the future behavior ensured, by passing a unique label to each axes instance.\n"
     ]
    },
    {
     "data": {
      "image/png": "[encoded data removed]",
      "text/plain": [
       "<Figure size 648x504 with 1 Axes>"
      ]
     },
     "metadata": {
      "needs_background": "light"
     },
     "output_type": "display_data"
    }
   ],
   "source": [
    "xvals = np.linspace(-1.,3.,int(2e4)) # x values from [-1,3]\n",
    "\n",
    "exact_vals = np.cos(xvals) #compute exact values\n",
    "\n",
    "t1_app = [tn_approx(xval,1) for xval in xvals]\n",
    "t2_app = [tn_approx(xval,2) for xval in xvals]\n",
    "t3_app = [tn_approx(xval,3) for xval in xvals]\n",
    "t4_app = [tn_approx(xval,4) for xval in xvals]\n",
    "\n",
    "plt.plot(xvals, exact_vals, ls='-', color='k', label=\"$\\cos(x)$\")\n",
    "plt.plot(xvals, t1_app, ls='--', color='b', label='$n=1$')\n",
    "plt.plot(xvals, t2_app, ls=':', color='g', label='$n=2$')\n",
    "plt.plot(xvals, t3_app, ls='--', color='y', label='$n=3$')\n",
    "plt.plot(xvals, t4_app, ls=':', color='r', label='$n=4$')\n",
    "\n",
    "plt.legend(loc=(0.1,0.1))\n",
    "\n",
    "plt.xlim(-1.1,3.1)\n",
    "plt.ylim(-1.1,1.1)\n",
    "\n",
    "plt.xlabel('$x$')\n",
    "plt.ylabel('$f(x)$')\n",
    "\n",
    "plt.axes().set_aspect(\"equal\")\n",
    "\n",
    "fig=plt.gcf() # get current figure\n",
    "fig.set_size_inches(9,7) # optional size"
   ]
  },
  {
   "cell_type": "markdown",
   "metadata": {},
   "source": [
    "For $n=1$, the Taylor series seems to be a good approximation along the interval $x\\in [-0.65,0.65]$.\n",
    "\n",
    "For $n=2$, the Taylor series seems to be a good approximation along the interval $x\\in[-1.0,1.5]$.\n",
    "\n",
    "For $n=3$, the Taylor series seems to be a good approximation along the interval $x\\in[-1.0,2.2]$.\n",
    "\n",
    "For $n=4$, the Taylor series seems to be a good approximation along the interval $x\\in[-1.0,2.75]$."
   ]
  }
 ],
 "metadata": {
  "kernelspec": {
   "display_name": "Python 3",
   "language": "python",
   "name": "python3"
  },
  "language_info": {
   "codemirror_mode": {
    "name": "ipython",
    "version": 3
   },
   "file_extension": ".py",
   "mimetype": "text/x-python",
   "name": "python",
   "nbconvert_exporter": "python",
   "pygments_lexer": "ipython3",
   "version": "3.7.4"
  }
 },
 "nbformat": 4,
 "nbformat_minor": 2
}
