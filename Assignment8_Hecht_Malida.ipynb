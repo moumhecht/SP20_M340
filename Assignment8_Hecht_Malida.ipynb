{
 "cells": [
  {
   "cell_type": "code",
   "execution_count": 1,
   "metadata": {},
   "outputs": [],
   "source": [
    "import numpy as np\n",
    "import matplotlib.pyplot as plt\n",
    "import scipy.integrate as spqd\n",
    "%matplotlib inline"
   ]
  },
  {
   "cell_type": "markdown",
   "metadata": {},
   "source": [
    "**1.A.** Write a code that will generate a sequence of points between $a=-5$ and $b=7$ with spacing $\\delta x = 5^{-3}$"
   ]
  },
  {
   "cell_type": "markdown",
   "metadata": {},
   "source": [
    "$$5^{-3} = \\frac{7-(-5)}{n} = \\frac{12}{n}$$\n",
    "$$n = \\frac{12}{5^{-3}}=1500$$"
   ]
  },
  {
   "cell_type": "code",
   "execution_count": 2,
   "metadata": {},
   "outputs": [
    {
     "name": "stdout",
     "output_type": "stream",
     "text": [
      "1501\n",
      "[-5.    -4.992 -4.984 ...  6.984  6.992  7.   ]\n"
     ]
    }
   ],
   "source": [
    "x1a = np.linspace(-5.,7.,1501)\n",
    "print(np.size(x1a))\n",
    "print(x1a)"
   ]
  },
  {
   "cell_type": "markdown",
   "metadata": {},
   "source": [
    "**1.B.** Write a code that will generate a sequence of points between $a=0$ and $b=20$ with spacing $\\delta x = 10^{-m}$ where m is a positive integer that a user would specify."
   ]
  },
  {
   "cell_type": "markdown",
   "metadata": {},
   "source": [
    "$$10^{-m} = \\frac{20-0}{n} = \\frac{20}{n}$$\n",
    "$$n = \\frac{20}{10^{-m}}=20\\times10^{m}=2\\times10^{m+1}$$"
   ]
  },
  {
   "cell_type": "code",
   "execution_count": 3,
   "metadata": {},
   "outputs": [
    {
     "name": "stdout",
     "output_type": "stream",
     "text": [
      "[0.0000e+00 1.0000e-03 2.0000e-03 ... 1.9998e+01 1.9999e+01 2.0000e+01]\n"
     ]
    }
   ],
   "source": [
    "m = 3\n",
    "x = 20*(10**m)+1\n",
    "x1b = np.linspace(0,20,int(x))\n",
    "print(x1b)"
   ]
  },
  {
   "cell_type": "markdown",
   "metadata": {},
   "source": [
    "**1.C.** From Problem 1.A., using array slicing, what could would find the points $x_j$ such that $0\\leq x_j\\leq5$"
   ]
  },
  {
   "cell_type": "markdown",
   "metadata": {},
   "source": [
    "$$0 = -5+(5^{-3}\\times k)$$\n",
    "$$k = \\frac{5}{5^{-3}}$$\n",
    "$$k = 625$$\n",
    "$$5 = -5+(5^{-3}\\times j)$$\n",
    "$$j = \\frac{10}{5^{-3}}$$\n",
    "$$j = 1250$$"
   ]
  },
  {
   "cell_type": "code",
   "execution_count": 4,
   "metadata": {},
   "outputs": [
    {
     "data": {
      "text/plain": [
       "array([0.   , 0.008, 0.016, 0.024, 0.032, 0.04 , 0.048, 0.056, 0.064,\n",
       "       0.072, 0.08 , 0.088, 0.096, 0.104, 0.112, 0.12 , 0.128, 0.136,\n",
       "       0.144, 0.152, 0.16 , 0.168, 0.176, 0.184, 0.192, 0.2  , 0.208,\n",
       "       0.216, 0.224, 0.232, 0.24 , 0.248, 0.256, 0.264, 0.272, 0.28 ,\n",
       "       0.288, 0.296, 0.304, 0.312, 0.32 , 0.328, 0.336, 0.344, 0.352,\n",
       "       0.36 , 0.368, 0.376, 0.384, 0.392, 0.4  , 0.408, 0.416, 0.424,\n",
       "       0.432, 0.44 , 0.448, 0.456, 0.464, 0.472, 0.48 , 0.488, 0.496,\n",
       "       0.504, 0.512, 0.52 , 0.528, 0.536, 0.544, 0.552, 0.56 , 0.568,\n",
       "       0.576, 0.584, 0.592, 0.6  , 0.608, 0.616, 0.624, 0.632, 0.64 ,\n",
       "       0.648, 0.656, 0.664, 0.672, 0.68 , 0.688, 0.696, 0.704, 0.712,\n",
       "       0.72 , 0.728, 0.736, 0.744, 0.752, 0.76 , 0.768, 0.776, 0.784,\n",
       "       0.792, 0.8  , 0.808, 0.816, 0.824, 0.832, 0.84 , 0.848, 0.856,\n",
       "       0.864, 0.872, 0.88 , 0.888, 0.896, 0.904, 0.912, 0.92 , 0.928,\n",
       "       0.936, 0.944, 0.952, 0.96 , 0.968, 0.976, 0.984, 0.992, 1.   ,\n",
       "       1.008, 1.016, 1.024, 1.032, 1.04 , 1.048, 1.056, 1.064, 1.072,\n",
       "       1.08 , 1.088, 1.096, 1.104, 1.112, 1.12 , 1.128, 1.136, 1.144,\n",
       "       1.152, 1.16 , 1.168, 1.176, 1.184, 1.192, 1.2  , 1.208, 1.216,\n",
       "       1.224, 1.232, 1.24 , 1.248, 1.256, 1.264, 1.272, 1.28 , 1.288,\n",
       "       1.296, 1.304, 1.312, 1.32 , 1.328, 1.336, 1.344, 1.352, 1.36 ,\n",
       "       1.368, 1.376, 1.384, 1.392, 1.4  , 1.408, 1.416, 1.424, 1.432,\n",
       "       1.44 , 1.448, 1.456, 1.464, 1.472, 1.48 , 1.488, 1.496, 1.504,\n",
       "       1.512, 1.52 , 1.528, 1.536, 1.544, 1.552, 1.56 , 1.568, 1.576,\n",
       "       1.584, 1.592, 1.6  , 1.608, 1.616, 1.624, 1.632, 1.64 , 1.648,\n",
       "       1.656, 1.664, 1.672, 1.68 , 1.688, 1.696, 1.704, 1.712, 1.72 ,\n",
       "       1.728, 1.736, 1.744, 1.752, 1.76 , 1.768, 1.776, 1.784, 1.792,\n",
       "       1.8  , 1.808, 1.816, 1.824, 1.832, 1.84 , 1.848, 1.856, 1.864,\n",
       "       1.872, 1.88 , 1.888, 1.896, 1.904, 1.912, 1.92 , 1.928, 1.936,\n",
       "       1.944, 1.952, 1.96 , 1.968, 1.976, 1.984, 1.992, 2.   , 2.008,\n",
       "       2.016, 2.024, 2.032, 2.04 , 2.048, 2.056, 2.064, 2.072, 2.08 ,\n",
       "       2.088, 2.096, 2.104, 2.112, 2.12 , 2.128, 2.136, 2.144, 2.152,\n",
       "       2.16 , 2.168, 2.176, 2.184, 2.192, 2.2  , 2.208, 2.216, 2.224,\n",
       "       2.232, 2.24 , 2.248, 2.256, 2.264, 2.272, 2.28 , 2.288, 2.296,\n",
       "       2.304, 2.312, 2.32 , 2.328, 2.336, 2.344, 2.352, 2.36 , 2.368,\n",
       "       2.376, 2.384, 2.392, 2.4  , 2.408, 2.416, 2.424, 2.432, 2.44 ,\n",
       "       2.448, 2.456, 2.464, 2.472, 2.48 , 2.488, 2.496, 2.504, 2.512,\n",
       "       2.52 , 2.528, 2.536, 2.544, 2.552, 2.56 , 2.568, 2.576, 2.584,\n",
       "       2.592, 2.6  , 2.608, 2.616, 2.624, 2.632, 2.64 , 2.648, 2.656,\n",
       "       2.664, 2.672, 2.68 , 2.688, 2.696, 2.704, 2.712, 2.72 , 2.728,\n",
       "       2.736, 2.744, 2.752, 2.76 , 2.768, 2.776, 2.784, 2.792, 2.8  ,\n",
       "       2.808, 2.816, 2.824, 2.832, 2.84 , 2.848, 2.856, 2.864, 2.872,\n",
       "       2.88 , 2.888, 2.896, 2.904, 2.912, 2.92 , 2.928, 2.936, 2.944,\n",
       "       2.952, 2.96 , 2.968, 2.976, 2.984, 2.992, 3.   , 3.008, 3.016,\n",
       "       3.024, 3.032, 3.04 , 3.048, 3.056, 3.064, 3.072, 3.08 , 3.088,\n",
       "       3.096, 3.104, 3.112, 3.12 , 3.128, 3.136, 3.144, 3.152, 3.16 ,\n",
       "       3.168, 3.176, 3.184, 3.192, 3.2  , 3.208, 3.216, 3.224, 3.232,\n",
       "       3.24 , 3.248, 3.256, 3.264, 3.272, 3.28 , 3.288, 3.296, 3.304,\n",
       "       3.312, 3.32 , 3.328, 3.336, 3.344, 3.352, 3.36 , 3.368, 3.376,\n",
       "       3.384, 3.392, 3.4  , 3.408, 3.416, 3.424, 3.432, 3.44 , 3.448,\n",
       "       3.456, 3.464, 3.472, 3.48 , 3.488, 3.496, 3.504, 3.512, 3.52 ,\n",
       "       3.528, 3.536, 3.544, 3.552, 3.56 , 3.568, 3.576, 3.584, 3.592,\n",
       "       3.6  , 3.608, 3.616, 3.624, 3.632, 3.64 , 3.648, 3.656, 3.664,\n",
       "       3.672, 3.68 , 3.688, 3.696, 3.704, 3.712, 3.72 , 3.728, 3.736,\n",
       "       3.744, 3.752, 3.76 , 3.768, 3.776, 3.784, 3.792, 3.8  , 3.808,\n",
       "       3.816, 3.824, 3.832, 3.84 , 3.848, 3.856, 3.864, 3.872, 3.88 ,\n",
       "       3.888, 3.896, 3.904, 3.912, 3.92 , 3.928, 3.936, 3.944, 3.952,\n",
       "       3.96 , 3.968, 3.976, 3.984, 3.992, 4.   , 4.008, 4.016, 4.024,\n",
       "       4.032, 4.04 , 4.048, 4.056, 4.064, 4.072, 4.08 , 4.088, 4.096,\n",
       "       4.104, 4.112, 4.12 , 4.128, 4.136, 4.144, 4.152, 4.16 , 4.168,\n",
       "       4.176, 4.184, 4.192, 4.2  , 4.208, 4.216, 4.224, 4.232, 4.24 ,\n",
       "       4.248, 4.256, 4.264, 4.272, 4.28 , 4.288, 4.296, 4.304, 4.312,\n",
       "       4.32 , 4.328, 4.336, 4.344, 4.352, 4.36 , 4.368, 4.376, 4.384,\n",
       "       4.392, 4.4  , 4.408, 4.416, 4.424, 4.432, 4.44 , 4.448, 4.456,\n",
       "       4.464, 4.472, 4.48 , 4.488, 4.496, 4.504, 4.512, 4.52 , 4.528,\n",
       "       4.536, 4.544, 4.552, 4.56 , 4.568, 4.576, 4.584, 4.592, 4.6  ,\n",
       "       4.608, 4.616, 4.624, 4.632, 4.64 , 4.648, 4.656, 4.664, 4.672,\n",
       "       4.68 , 4.688, 4.696, 4.704, 4.712, 4.72 , 4.728, 4.736, 4.744,\n",
       "       4.752, 4.76 , 4.768, 4.776, 4.784, 4.792, 4.8  , 4.808, 4.816,\n",
       "       4.824, 4.832, 4.84 , 4.848, 4.856, 4.864, 4.872, 4.88 , 4.888,\n",
       "       4.896, 4.904, 4.912, 4.92 , 4.928, 4.936, 4.944, 4.952, 4.96 ,\n",
       "       4.968, 4.976, 4.984, 4.992, 5.   ])"
      ]
     },
     "execution_count": 4,
     "metadata": {},
     "output_type": "execute_result"
    }
   ],
   "source": [
    "x1a[625:1251]"
   ]
  },
  {
   "cell_type": "markdown",
   "metadata": {},
   "source": [
    "**1.D.** From Problem 1.B., using array slicing, what could would find the points $x_j$ such that $2\\leq x_j\\leq9$"
   ]
  },
  {
   "cell_type": "markdown",
   "metadata": {},
   "source": [
    "$$2 = 0 + 10^{-m}\\times k$$\n",
    "$$k=2\\times10^{m}$$\n",
    "$$9 = 0 + 10^{-m}\\times j$$\n",
    "$$j=9\\times10^{m}$$"
   ]
  },
  {
   "cell_type": "code",
   "execution_count": 5,
   "metadata": {},
   "outputs": [
    {
     "data": {
      "text/plain": [
       "array([2.   , 2.001, 2.002, ..., 8.998, 8.999, 9.   ])"
      ]
     },
     "execution_count": 5,
     "metadata": {},
     "output_type": "execute_result"
    }
   ],
   "source": [
    "x1b[int(2*10**m):int(9*10**m+1)]"
   ]
  },
  {
   "cell_type": "markdown",
   "metadata": {},
   "source": [
    "**Problem 2.A.** Using the guess $p_n = \\lambda^n$, show that you get two solutions, where:\n",
    "$$\\lambda_{\\pm} = \\frac{1}{2}\\bigg(a\\pm\\sqrt{a^2+4b}\\bigg)$$"
   ]
  },
  {
   "cell_type": "markdown",
   "metadata": {},
   "source": [
    "$$\\begin{aligned} p_n &= ap_{n-1}+bp_{n-2} && p_n = \\lambda^n, p_{n-1} = \\lambda^{n-2}, p_{n-2}=\\lambda ^{n-2} \\\\\n",
    "\\lambda^n &= a\\lambda^{n-1} +b\\lambda^{n-2} \\\\\n",
    "\\lambda^n &=a\\lambda^n\\lambda^{-1}+b\\lambda^n\\lambda^{-2} \\\\\n",
    "1 &= a\\lambda^{-1}+b\\lambda^{-2} \\\\\n",
    "\\lambda^2 (1 &= a\\lambda^{-1}+b\\lambda^{-2}) \\\\\n",
    "&\\lambda^2 = a\\lambda+b \\\\\n",
    "0 &=\\lambda^2-a\\lambda-b && \\textrm{Using the quadratic formula..} \\\\\n",
    "&\\lambda_{\\pm} = \\frac{a\\pm\\sqrt{(-a)^2-4(1)(-b)}}{2}\\\\\n",
    "&\\lambda_{\\pm} = \\frac{a\\pm\\sqrt{a^2+4b}}{2}\n",
    "\\end{aligned}$$"
   ]
  },
  {
   "cell_type": "markdown",
   "metadata": {},
   "source": [
    "**Problem 2.B** We write the general solution in the form \n",
    "$$p_n = c_+ \\lambda_+^n +c_{-}\\lambda_{-}^n$$\n",
    "Given the initial conditions,\n",
    "$$p_0 = s_0, p_1 = 1,$$\n",
    "find $c_+$ and $c_-$."
   ]
  },
  {
   "cell_type": "markdown",
   "metadata": {},
   "source": [
    "$$\\begin{aligned}\n",
    "p_0 = c_+ (\\lambda_+)^0 + c_- (\\lambda_-)^0 = c_+ + c_- = s_0\\\\\n",
    "s_0 = c_+ + c_- \\\\\n",
    "c_- = s_0 - c_+\n",
    "\\end{aligned}$$\n",
    "$$\\begin{aligned}\n",
    "p_0 = c_+ (\\lambda_+)^1 + c_- (\\lambda_-)^1 = c_+\\lambda_+ + c_-\\lambda_- = 1\\end{aligned}$$\n",
    "$$\\begin{aligned}\n",
    "1 &  = c_+ \\lambda_+ + c_- \\lambda_- \\\\\n",
    "& = c_+ \\lambda_+ + (s_0-c_+)\\lambda_- \\\\\n",
    "&= c_+\\lambda_+ +(s_0 \\lambda_-) - c_+ \\lambda_- \\\\\n",
    "1- s_0\\lambda_- &= c_+ (\\lambda_+ - \\lambda_-) \\\\ \n",
    "c_+ &= \\frac{1- s_0\\lambda_-}{\\lambda_+ - \\lambda_-} \\\\ \n",
    "c_- &= s_0 - c_+\\\\\n",
    "c_- &= \\frac{s_0(\\lambda_+ - \\lambda_-)}{\\lambda_+ - \\lambda_-\\lambda_-} - \\frac{1-s_0\\lambda_-}{\\lambda_+ - \\lambda_-}\\\\\n",
    "c_- &= \\frac{s_0 \\lambda_+ - 1}{\\lambda_+ - \\lambda_-}\n",
    "\\end{aligned}$$"
   ]
  },
  {
   "cell_type": "markdown",
   "metadata": {},
   "source": [
    "**Problem 2.C.i** Let $b=1$ and $a=2$.\n",
    "$$\\begin{aligned}\\big\\rvert\\lambda_+\\big\\rvert &=\\bigg\\rvert\\frac{1}{2}\\big(a+\\sqrt{a^2+4b}\\big)\\bigg\\rvert\\\\\n",
    "&=\\bigg\\rvert\\frac{1}{2}\\big(2+\\sqrt{2^2+4(1)}\\big)\\bigg\\rvert\\\\\n",
    "& = \\bigg\\rvert\\frac{1}{2}\\big(2+2\\sqrt{2}\\big)\\bigg\\rvert\\\\\n",
    "&= \\big\\rvert\\big(1+\\sqrt{2}\\big) \\big\\rvert=2.414 > 1.\n",
    "\\end{aligned}$$\n",
    "A is correct."
   ]
  },
  {
   "cell_type": "markdown",
   "metadata": {},
   "source": [
    "**Problem 2.C.i** Let $b=1$ and $a=2$.\n",
    "-$$\\begin{aligned}\\big\\rvert\\lambda_+\\big\\rvert &=\\bigg\\rvert\\frac{1}{2}\\big(a-\\sqrt{a^2+4b}\\big)\\bigg\\rvert\\\\\n",
    "&=\\bigg\\rvert\\frac{1}{2}\\big(2-\\sqrt{2^2+4(1)}\\big)\\bigg\\rvert\\\\\n",
    "& = \\bigg\\rvert\\frac{1}{2}\\big(2-2\\sqrt{2}\\big)\\bigg\\rvert\\\\\n",
    "&= \\big\\rvert\\big(1-\\sqrt{2}\\big) \\big\\rvert= 0.414 < 1.\n",
    "\\end{aligned}$$\n",
    "B is correct."
   ]
  },
  {
   "cell_type": "markdown",
   "metadata": {},
   "source": [
    "**Problem 3.A** Write a function `lucas` which generates, for a given integer $n\\geq2$ and real values $a$, $s_0$, and $s_1$, the $n+1$ array of points `pn` such that\n",
    "`pn[0] = s_0, pn[1]=s1`\n",
    "and the entries `pn` are given by the recurrence relationship in problem 2."
   ]
  },
  {
   "cell_type": "code",
   "execution_count": 6,
   "metadata": {},
   "outputs": [],
   "source": [
    "def lucas(n,a,b,s0,s1):\n",
    "    p_n = np.ones(n+1)\n",
    "    p_n[0]= s0\n",
    "    p_n[1] = s1\n",
    "    for k in range(2,n+1):\n",
    "        p_n[k] = a*p_n[k-1]+b*p_n[k-2]\n",
    "    return p_n"
   ]
  },
  {
   "cell_type": "markdown",
   "metadata": {},
   "source": [
    "**3.B** Let $n=15$, $s_0 = 0$, $s_1 = 2$, $a= 2$, and $b=1$. Generate a plot of $p_n$."
   ]
  },
  {
   "cell_type": "code",
   "execution_count": 7,
   "metadata": {},
   "outputs": [
    {
     "data": {
      "text/plain": [
       "Text(0.5, 1.0, 'Fibonacci sequence $p_n$ with\\n $n=15$, $s_0 = 0$, $s_1 = 2$, $a= 2$, and $b=1$ ')"
      ]
     },
     "execution_count": 7,
     "metadata": {},
     "output_type": "execute_result"
    },
    {
     "data": {
      "image/png": "[encoded data removed]",
      "text/plain": [
       "<Figure size 432x288 with 1 Axes>"
      ]
     },
     "metadata": {
      "needs_background": "light"
     },
     "output_type": "display_data"
    }
   ],
   "source": [
    "y=lucas(15,2,1,0,2)\n",
    "nvals=np.linspace(0,15,16)\n",
    "plt.plot(nvals,y)\n",
    "plt.xlabel('n')\n",
    "plt.ylabel('$p_n$')\n",
    "plt.title('Fibonacci sequence $p_n$ with\\n $n=15$, $s_0 = 0$, $s_1 = 2$, $a= 2$, and $b=1$ ')"
   ]
  },
  {
   "cell_type": "markdown",
   "metadata": {},
   "source": [
    "**3.C.** Let $n=10$, $s_0 = 1$, $s_1 = 1$, $a= 1$, and $b=-\\frac{1}{2}$. Generate a plot of $p_n$. Explain how the results differ."
   ]
  },
  {
   "cell_type": "code",
   "execution_count": 8,
   "metadata": {},
   "outputs": [
    {
     "data": {
      "text/plain": [
       "Text(0.5, 1.0, 'Fibonacci sequence $p_n$ with\\n $n=10$, $s_0 = 1$, $s_1 = 1$, $a= 1$, and $b=-1/2$')"
      ]
     },
     "execution_count": 8,
     "metadata": {},
     "output_type": "execute_result"
    },
    {
     "data": {
      "image/png": "[encoded data removed]",
      "text/plain": [
       "<Figure size 432x288 with 1 Axes>"
      ]
     },
     "metadata": {
      "needs_background": "light"
     },
     "output_type": "display_data"
    }
   ],
   "source": [
    "y=lucas(10,1,-0.5,1,1)\n",
    "nvals=np.linspace(0,10,11)\n",
    "plt.plot(nvals,y)\n",
    "plt.xlabel('n')\n",
    "plt.ylabel('$p_n$')\n",
    "plt.title('Fibonacci sequence $p_n$ with\\n $n=10$, $s_0 = 1$, $s_1 = 1$, $a= 1$, and $b=-1/2$')"
   ]
  },
  {
   "cell_type": "markdown",
   "metadata": {},
   "source": [
    "The results differ greatly. The sequence described in 3.B. increases exponentially, where the sequence described in 3.C. seems to oscillate."
   ]
  },
  {
   "cell_type": "markdown",
   "metadata": {},
   "source": [
    "**4.A.** Write the a code creating a sequence of $n+1$ points $x_j$ such that $0\\leq x_j\\leq x$ with\n",
    "$$x_j = j \\delta x, \\delta x = \\frac{x}{n}$$"
   ]
  },
  {
   "cell_type": "code",
   "execution_count": 9,
   "metadata": {},
   "outputs": [
    {
     "name": "stdout",
     "output_type": "stream",
     "text": [
      "[ 0.  1.  2.  3.  4.  5.  6.  7.  8.  9. 10.]\n",
      "[ 0.  1.  2.  3.  4.  5.  6.  7.  8.  9. 10.]\n"
     ]
    }
   ],
   "source": [
    "def exes(x,n):\n",
    "    return np.linspace(0,x,n+1)\n",
    "x= exes(10,10)\n",
    "print(x)\n",
    "\n",
    "def exes2(x,dx):\n",
    "    n=x/dx\n",
    "    return np.linspace(0,x,int(n)+1)\n",
    "y = exes2(10,1)\n",
    "print(y)"
   ]
  },
  {
   "cell_type": "markdown",
   "metadata": {},
   "source": [
    "**4.B.** Find the second-order Taylor polynomial approximation around $x_j$ of $\\sin(t^2)$."
   ]
  },
  {
   "cell_type": "markdown",
   "metadata": {},
   "source": [
    "$$\\begin{aligned}F(t) &\\approx F(x_j) + F'(x_j) (t-x_j)+ \\frac{F''(x_j)(t-x_j)^2}{2}\\\\\n",
    "&= \\sin(x_j^2)+ 2x_j\\cos(x_j^2)(t-x_j)-\\frac{4(x_j)^2\\sin(x_j^2)(t-x_j)^2}{2} + \\frac{2\\cos(x_j^2)(t-x_j)^2}{2}\\\\\n",
    "&=\\sin(x_j^2)+ 2x_j\\cos(x_j^2)(t-x_j)-{2(x_j)^2\\sin(x_j^2)(t-x_j)^2} + {\\cos(x_j^2)(t-x_j)^2}\\\\\n",
    "&=\\sin(x_j^2)+ 2x_j\\cos(x_j^2)(t-x_j)+\\bigg(-{2(x_j)^2\\sin(x_j^2)} + {\\cos(x_j^2)}\\bigg)(t-x_j)^2\\\\\n",
    "&=T_2(t;x_j)\n",
    "\\end{aligned}$$"
   ]
  },
  {
   "cell_type": "markdown",
   "metadata": {},
   "source": [
    "**4.C** Using the fact that $\\delta x = x_{j+1}-x_k$, show that\n",
    "$$\\int_{x_j}^{x_{j+1}}T_2(t;x_j)dt=\\delta x\\sin(x_j^2)+\\delta x^2\\big(x_j\\cos(x_j^2)\\big)+\\frac{\\delta x^3}{3}\\big(\\cos(x_j^2)-2x_j^2\\sin(x_j^2)\\big)$$"
   ]
  },
  {
   "cell_type": "markdown",
   "metadata": {},
   "source": [
    "$$\\begin{aligned}\n",
    "\\int_{x_j}^{x_{j+1}}T_2(t;x_j)dt &=\\int_{x_j}^{x_{j+1}}\\sin(x_j^2)+ 2x_j\\cos(x_j^2)(t-x_j)+\\bigg(\\cos(x_j^2)-{2(x_j)^2\\sin(x_j^2)} \\bigg)(t-x_j)^2dt  \\\\ \n",
    "&u = t-x_j \\rightarrow du = dt; \\hspace{2pt} u_i = 0, \\hspace{2pt} u_f = x_{j+1}-x_j=\\delta x\\\\\n",
    "\\int_{x_j}^{x_{j+1}}T_2(t;x_j)dt &=\\int_{0}^{\\delta x}\\sin(x_j^2)+ 2x_j\\cos(x_j^2)(u)+\\bigg(\\cos(x_j^2)-{2(x_j)^2\\sin(x_j^2)} \\bigg)(u)^2du \\\\ \n",
    "&= u\\sin(x_j^2)+\\frac{2x_j\\cos(x_j^2)(u^2)}{2}+\\frac{\\big(\\cos(x_j^2)-{2(x_j)^2\\sin(x_j^2)} \\big)(u)^3}{3}\\Bigg\\rvert_0^{\\delta x}\\\\\n",
    "&= {\\delta x}\\sin(x_j^2)+{x_j\\cos(x_j^2)({\\delta x}^2)}+\\frac{\\delta x^3}{3}\\big(\\cos(x_j^2)-{2(x_j)^2\\sin(x_j^2)} \\big)\n",
    "\\end{aligned}$$"
   ]
  },
  {
   "cell_type": "markdown",
   "metadata": {},
   "source": [
    "**4.D** Write a Python funciton called `fresnel_integrator` which takes an array of `xvals` and returns a corresponding array `fvals`, which contain the values of the Fresnel function. Plot $f(x)$ for $0\\leq x\\leq 10$ with $\\delta x = 10^{-2}$. Describe what you see."
   ]
  },
  {
   "cell_type": "code",
   "execution_count": 10,
   "metadata": {},
   "outputs": [
    {
     "name": "stdout",
     "output_type": "stream",
     "text": [
      "1001\n",
      "1001\n"
     ]
    },
    {
     "data": {
      "text/plain": [
       "Text(0.5, 0, '$f(x)$')"
      ]
     },
     "execution_count": 10,
     "metadata": {},
     "output_type": "execute_result"
    },
    {
     "data": {
      "image/png": "[encoded data removed]",
      "text/plain": [
       "<Figure size 432x288 with 1 Axes>"
      ]
     },
     "metadata": {
      "needs_background": "light"
     },
     "output_type": "display_data"
    }
   ],
   "source": [
    "def fresnel_integrator(xvals):\n",
    "    dx = xvals[1]-xvals[0]\n",
    "    n = len(xvals)\n",
    "    fvals = np.zeros(int(n))\n",
    "    for jj in range(0,int(n-1)):\n",
    "        xj = xvals[jj]\n",
    "        x2 = xj**2.\n",
    "        cx = np.cos(x2)\n",
    "        sx = np.sin(x2)\n",
    "        fupdate = (dx*sx)+ (xj*cx*(dx**2)) + ((dx**3)/3)*(cx - 2*(xj**2)*sx)\n",
    "        fvals[jj+1] = fupdate+fvals[jj]\n",
    "    return fvals\n",
    "\n",
    "xvals = np.linspace(0.,10.,int(1e3)+1)\n",
    "fvals = fresnel_integrator(xvals)\n",
    "print(np.size(xvals))\n",
    "print(np.size(fvals))\n",
    "plt.plot(xvals,fvals)\n",
    "plt.xlabel('$x$')\n",
    "plt.xlabel('$f(x)$')"
   ]
  },
  {
   "cell_type": "markdown",
   "metadata": {},
   "source": [
    "**4.E** Letting $x=10$, compare the approximation to the true value of $f(10)$ for $\\delta x = 1, 10^{-1}, 10^{-2}, 10^{-3}, 10^{-4}$ and generate a log-log plot of the error vs. the corresponding value of $n$. Lavel axes for your graph. Describe and comment trends."
   ]
  },
  {
   "cell_type": "code",
   "execution_count": 11,
   "metadata": {},
   "outputs": [
    {
     "name": "stdout",
     "output_type": "stream",
     "text": [
      "[    10    100   1000  10000 100000 999999]\n"
     ]
    },
    {
     "data": {
      "text/plain": [
       "Text(0, 0.5, '$\\\\log_{10}|Error|$')"
      ]
     },
     "execution_count": 11,
     "metadata": {},
     "output_type": "execute_result"
    },
    {
     "data": {
      "image/png": "[encoded data removed]",
      "text/plain": [
       "<Figure size 432x288 with 1 Axes>"
      ]
     },
     "metadata": {
      "needs_background": "light"
     },
     "output_type": "display_data"
    }
   ],
   "source": [
    "fvalf = spqd.quad(lambda t: np.sin(t**2.),0.,10.)\n",
    "fvalt = fvalf[0]\n",
    "\n",
    "deltas = [1,1e-1,1e-2,1e-3,1e-4,1e-5]\n",
    "nvals = np.array([int((10)/dx) for dx in deltas])\n",
    "print(nvals)\n",
    "evals = np.zeros(nvals.size)\n",
    "\n",
    "for ll in range(0,nvals.size):\n",
    "    xvals = np.linspace(0.,10.,int(nvals[ll]))\n",
    "    fvals = fresnel_integrator(xvals)\n",
    "    evals[ll] = np.log10(np.abs(fvals[-1]-fvalt))\n",
    "\n",
    "plt.plot(np.log10(nvals),evals)\n",
    "plt.xlabel('$n$')\n",
    "plt.ylabel('$\\log_{10}|Error|$')"
   ]
  },
  {
   "cell_type": "markdown",
   "metadata": {},
   "source": [
    "As n increases, the error decreases. The log-log plot is fairly linear with a negative slope, indicating that the error decreases exponentially. With more terms in the Taylor Approximation, the more accurate the approximation will be."
   ]
  },
  {
   "cell_type": "code",
   "execution_count": null,
   "metadata": {},
   "outputs": [],
   "source": []
  }
 ],
 "metadata": {
  "kernelspec": {
   "display_name": "Python 3",
   "language": "python",
   "name": "python3"
  },
  "language_info": {
   "codemirror_mode": {
    "name": "ipython",
    "version": 3
   },
   "file_extension": ".py",
   "mimetype": "text/x-python",
   "name": "python",
   "nbconvert_exporter": "python",
   "pygments_lexer": "ipython3",
   "version": "3.7.6"
  }
 },
 "nbformat": 4,
 "nbformat_minor": 4
}
