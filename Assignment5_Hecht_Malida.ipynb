{
 "cells": [
  {
   "cell_type": "markdown",
   "metadata": {},
   "source": [
    "**1.A.** Use the Binomial Theorem to show that:\n",
    "$$(x+y)^4 = x^4+4x^3y+6x^2y^2+4xy^3+y^4$$"
   ]
  },
  {
   "cell_type": "markdown",
   "metadata": {},
   "source": [
    "$$ \\begin{aligned}\n",
    "{4\\choose0} = \\frac{4!}{0!(4-0)!} = \\frac{4!}{4!0!}= 1 \\\\ \n",
    "{4\\choose1} = \\frac{4!}{1!(4-1)!} = \\frac{4!}{1!3!}= 4 \\\\\n",
    "{4\\choose2} = \\frac{4!}{2!(4-2)!} = \\frac{4!}{4!2!}= 6 \\\\\n",
    "{4\\choose3} = \\frac{4!}{3!(4-3)!} = \\frac{4!}{3!1!}= 4 \\\\\n",
    "{4\\choose4} = \\frac{4!}{4!(4-4)!} = \\frac{4!}{0!4!}= 1\n",
    "\\end{aligned}$$"
   ]
  },
  {
   "cell_type": "markdown",
   "metadata": {},
   "source": [
    "$$\\begin{aligned}\n",
    "(x+y)^4 &=  {4\\choose0}x^4y^0 + {4\\choose1}x^3y^1 + {4\\choose2} x^2y^2 + {4\\choose3}x^1y^3 + {4\\choose4}x^0y^4  \\\\\n",
    "&=x^4 + 4x^3y+6x^2y^2+4xy^3+4x^1y^3 +y^4\n",
    "\\end{aligned}$$"
   ]
  },
  {
   "cell_type": "markdown",
   "metadata": {},
   "source": [
    "**1.B.** Use the Binomial Theorem to show that $$(x-y)^2 = x^2-2xy+y^2$$"
   ]
  },
  {
   "cell_type": "markdown",
   "metadata": {},
   "source": [
    "$$ \\begin{aligned}\n",
    "{2\\choose0} = \\frac{2!}{0!(2-0)!} = \\frac{2!}{2!0!}= 1 \\\\ \n",
    "{2\\choose1} = \\frac{2!}{1!(2-1)!} = \\frac{2!}{1!1!}= 2 \\\\\n",
    "{2\\choose2} = \\frac{2!}{2!(2-2)!} = \\frac{2!}{2!0!}= 1 \\\\\n",
    "\\end{aligned}$$"
   ]
  },
  {
   "cell_type": "markdown",
   "metadata": {},
   "source": [
    "$$\\begin{aligned}\n",
    "(x-y)^2 &=  {2\\choose0}x^2(-y)^0 + {2\\choose1}x^1(-y)^1 + {2\\choose2} x^0(-y)^2  \\\\\n",
    "&=x^2 -2xy+y^2\n",
    "\\end{aligned}$$"
   ]
  },
  {
   "cell_type": "markdown",
   "metadata": {},
   "source": [
    "**1.C.** Using Pascal's Triangle, write down the expansion for $(x+y)^9$\n"
   ]
  },
  {
   "cell_type": "markdown",
   "metadata": {},
   "source": [
    "When $n = 9$, the corresponding row in Pascal's triangle is:\n",
    "1, 9, 36, 84, 126, 126, 84, 36, 9, 1.\n",
    "\n",
    "\n",
    "$(x+y)^9 = x^9 + 8x^8y + 36x^7y^2+ 84x^6y^3 + 126x^5y^4+126x^4y^5+84x^3y^6+36x^2y^7+9xy^8+y^9$"
   ]
  },
  {
   "cell_type": "markdown",
   "metadata": {},
   "source": [
    "**1.D**  Using the pattern you see in Pascal's triangle, can you provide an explanation for why \n",
    "$${n+1\\choose l} = {n \\choose l-1} + {n \\choose l}$$\n",
    "is true."
   ]
  },
  {
   "cell_type": "markdown",
   "metadata": {},
   "source": [
    "In Pascal's triangle, the $l$-th entry in the $n$-th row has the value of ${n \\choose l}$.\n",
    "The $l$-th entry of the next ($n+1$-th) row, given by \n",
    "$${n+1\\choose l}$$\n",
    "is the sum of $l-1$-th entry of the previous row, with value $${n \\choose l-1}$$ and $l$-th entry of the previous ($n$-th) row, with value $$ {n \\choose l}$$ which is given by\n",
    "$${n \\choose l-1} + {n \\choose l}$$"
   ]
  },
  {
   "cell_type": "code",
   "execution_count": null,
   "metadata": {},
   "outputs": [],
   "source": [
    "import numpy as np\n",
    "import matplotlib.pyplot as plt\n",
    "%matplotlib inline"
   ]
  },
  {
   "cell_type": "code",
   "execution_count": null,
   "metadata": {},
   "outputs": [],
   "source": [
    "print(np.linspace(0.,1.,11))"
   ]
  },
  {
   "cell_type": "markdown",
   "metadata": {},
   "source": [
    "**2.A** What does the Python code `print(np.linspace(0,1,11)` do?\n",
    "\n"
   ]
  },
  {
   "cell_type": "markdown",
   "metadata": {},
   "source": [
    " \n",
    " `print(np.linspace(0.,1.,11))` returns 11 evenly spaced numbers from 0 to 1 (prints the array from 0 to 1 with 11 elements (because indexing starts at 0))\n",
    "\n",
    "Starting with 0, the elements increase by $\\Delta = .1 =\\frac{ 1-0}{11-1}$ and ends at 1. \n"
   ]
  },
  {
   "cell_type": "code",
   "execution_count": null,
   "metadata": {},
   "outputs": [],
   "source": [
    "print(np.linspace(0,10,11))"
   ]
  },
  {
   "cell_type": "markdown",
   "metadata": {},
   "source": [
    "**2.B** What does the Python code `print(np.linspace(0,10,11)` do?\n",
    "\n"
   ]
  },
  {
   "cell_type": "markdown",
   "metadata": {},
   "source": [
    " `print(np.linspace(0.,1.,11))` prints an array from 0 to 10 with 11 elements (because indexing starts at 0).\n",
    " \n",
    " Starting with 0, the elements increase by $\\Delta = 1 =\\frac{ 10-0}{11-1}$ and ends at 10. \n",
    " "
   ]
  },
  {
   "cell_type": "markdown",
   "metadata": {},
   "source": [
    "**2.C** Explain what `np.linspace(a,b,n+1)` does for arbitrary real values $a$ and $b>a$ and positive integer value $n$."
   ]
  },
  {
   "cell_type": "markdown",
   "metadata": {},
   "source": [
    "\n",
    "`np.linspace(a,b,n+1)` takes $\\Delta x = \\frac{b-a}{n}$ and creates an array, starting with a, and adding $\\Delta x$ to each entry until the last entry is b.\n",
    "\n",
    "Another way to think about this, is that there is an array created from $a$  to $b$ with $n+1$ entries."
   ]
  },
  {
   "cell_type": "markdown",
   "metadata": {},
   "source": [
    "**3.A.**\n",
    "Plot $f(x) = x^3+3x^2+2x+1$ over $-2\\leq x \\leq 2.1$"
   ]
  },
  {
   "cell_type": "code",
   "execution_count": null,
   "metadata": {},
   "outputs": [],
   "source": [
    "xvals = np.linspace(-2.,2.1,int(1e4))\n",
    "yvals = xvals**3 + 3*xvals**2 + 2*xvals + 1\n",
    "plt.plot(xvals,yvals)\n",
    "plt.xlabel('x')\n",
    "plt.ylabel('$f(x) = x^3+3x^2+2x+1$')"
   ]
  },
  {
   "cell_type": "markdown",
   "metadata": {},
   "source": [
    "**3.B.** Write a command to create a NumPy array of points between and including $x= 1$ and $11$ with spacing between points equal to $0.1$"
   ]
  },
  {
   "cell_type": "code",
   "execution_count": null,
   "metadata": {},
   "outputs": [],
   "source": [
    "print(np.linspace(1,11, 101))"
   ]
  },
  {
   "cell_type": "markdown",
   "metadata": {},
   "source": [
    "**3.C** What is the spacing between points in the array `np.linspace(1.3,2.4,int(5e2))`?"
   ]
  },
  {
   "cell_type": "markdown",
   "metadata": {},
   "source": [
    "$\\Delta x = \\frac{2.4-1.3}{500-1}= \\frac{1.1}{499} = 0.0022044088$"
   ]
  },
  {
   "cell_type": "markdown",
   "metadata": {},
   "source": [
    "**4** Write a program to sum the even numbers between 1 and 99."
   ]
  },
  {
   "cell_type": "code",
   "execution_count": null,
   "metadata": {},
   "outputs": [],
   "source": [
    "n = 1\n",
    "sums = 0\n",
    "while 2*n <= 99:\n",
    "    sums += 2*n\n",
    "    n += 1\n",
    "print(sums)"
   ]
  }
 ],
 "metadata": {
  "kernelspec": {
   "display_name": "Python 3",
   "language": "python",
   "name": "python3"
  },
  "language_info": {
   "codemirror_mode": {
    "name": "ipython",
    "version": 3
   },
   "file_extension": ".py",
   "mimetype": "text/x-python",
   "name": "python",
   "nbconvert_exporter": "python",
   "pygments_lexer": "ipython3",
   "version": "3.7.4"
  }
 },
 "nbformat": 4,
 "nbformat_minor": 2
}
