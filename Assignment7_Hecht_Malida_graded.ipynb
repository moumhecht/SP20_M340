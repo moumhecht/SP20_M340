{
 "cells": [
  {
   "cell_type": "code",
   "execution_count": 1,
   "metadata": {},
   "outputs": [],
   "source": [
    "import numpy as np\n",
    "import matplotlib.pyplot as plt\n",
    "from time import time\n",
    "%matplotlib inline"
   ]
  },
  {
   "cell_type": "markdown",
   "metadata": {},
   "source": [
    "**Problem 1.A**\n",
    "Write a code which computes\n",
    "$$\\sum_{j=0}^{\\infty}e^{-j}$$\n",
    "using a recursion and a tolerance based while loop approach."
   ]
  },
  {
   "cell_type": "markdown",
   "metadata": {},
   "source": [
    "$$\\frac{a_j}{a_{j-1}}= \\frac{e^{-j}}{e^{-(j-1)}}=\\frac{1}{e}$$\n",
    "Then, $$a_j = \\frac{1}{e}a_{j-1}$$\n",
    "And\n",
    "$$a_0 = e^{-0} = 1$$"
   ]
  },
  {
   "cell_type": "code",
   "execution_count": 2,
   "metadata": {},
   "outputs": [],
   "source": [
    "def sumfunc(tol):\n",
    "    aj = 1\n",
    "    tj = 1\n",
    "    while np.abs(aj)>=tol:\n",
    "        aj *= 1/np.exp(1)\n",
    "        tj += aj\n",
    "    return tj\n"
   ]
  },
  {
   "cell_type": "markdown",
   "metadata": {},
   "source": [
    "**Problem 1.B** Run your code in Problem 1.A  for tolerances `1e-2, 1e-4, 1e-6, 1e-8`"
   ]
  },
  {
   "cell_type": "code",
   "execution_count": 3,
   "metadata": {
    "scrolled": true
   },
   "outputs": [
    {
     "name": "stdout",
     "output_type": "stream",
     "text": [
      "[1.5780553786637388, 1.5819502851677112, 1.5819762229389809, 1.5819767036086296]\n"
     ]
    }
   ],
   "source": [
    "tols = [1e-2,1e-4,1e-6,1e-8]\n",
    "sums = [sumfunc(x) for x in tols]\n",
    "print(sums)"
   ]
  },
  {
   "cell_type": "markdown",
   "metadata": {},
   "source": [
    "**Problem 1.C** Using the formula for the sum of a geometric progression, compute\n",
    "$$\\sum_{j=0}^{\\infty}e^{-j}$$\n",
    "to 9 significant figures."
   ]
  },
  {
   "cell_type": "markdown",
   "metadata": {},
   "source": [
    "$$\\sum_{j=0}^{\\infty}e^{-j} = \\frac{1}{1-e^{-1}}$$"
   ]
  },
  {
   "cell_type": "code",
   "execution_count": 4,
   "metadata": {},
   "outputs": [
    {
     "name": "stdout",
     "output_type": "stream",
     "text": [
      "sum = 1.581976707\n"
     ]
    }
   ],
   "source": [
    "estimate = 1/ (1 - 1/(np.exp(1)))\n",
    "print('sum = %1.9f' %estimate)"
   ]
  },
  {
   "cell_type": "markdown",
   "metadata": {},
   "source": [
    "**Problem 1.D** Compare your result from 1.B and 1.C and discuss your observation."
   ]
  },
  {
   "cell_type": "code",
   "execution_count": 5,
   "metadata": {},
   "outputs": [
    {
     "name": "stdout",
     "output_type": "stream",
     "text": [
      "[-3.92132821e-03 -2.64217016e-05 -4.83930346e-07 -3.26069682e-09]\n"
     ]
    }
   ],
   "source": [
    "err = sums - estimate\n",
    "print(err)"
   ]
  },
  {
   "cell_type": "markdown",
   "metadata": {},
   "source": [
    "As the tolerance decreases, the error also decreases. The smaller tolerance increases the accuracy. The sum is smaller than the geometric series progression because the code does not infinitely compute the sum."
   ]
  },
  {
   "cell_type": "markdown",
   "metadata": {},
   "source": [
    "**Point: 10/10**"
   ]
  },
  {
   "cell_type": "markdown",
   "metadata": {},
   "source": [
    "**Problem 2.A** Write a code to graph the following in the interval $[-1,4]$\n",
    "$$y(x) = \\begin{cases}\n",
    "0 &\\textrm{for} & x<0 \\\\\n",
    "x &\\textrm{for} & 0\\leq x\\leq 1 \\\\\n",
    "2-x &\\textrm{for} & 1< x\\leq 2 \\\\\n",
    "0 & \\textrm{for} & x>2\n",
    "\\end{cases}$$"
   ]
  },
  {
   "cell_type": "code",
   "execution_count": 6,
   "metadata": {},
   "outputs": [],
   "source": [
    "def hammerhead_shark(x):\n",
    "    if (x<0.):\n",
    "        return 0.\n",
    "    elif (x<=1.):\n",
    "        return x\n",
    "    elif (x<=2.):\n",
    "        return (2.-x)\n",
    "    else:\n",
    "        return 0."
   ]
  },
  {
   "cell_type": "markdown",
   "metadata": {},
   "source": [
    "**Problem 2.B** Create 11 points from -1 to 4 and assign it to x. Using this x value, plot y(x)"
   ]
  },
  {
   "cell_type": "code",
   "execution_count": 7,
   "metadata": {},
   "outputs": [
    {
     "data": {
      "text/plain": [
       "Text(0.5, 1.0, '11 data points')"
      ]
     },
     "execution_count": 7,
     "metadata": {},
     "output_type": "execute_result"
    },
    {
     "data": {
      "image/png": "[encoded data removed]",
      "text/plain": [
       "<Figure size 432x288 with 1 Axes>"
      ]
     },
     "metadata": {
      "needs_background": "light"
     },
     "output_type": "display_data"
    }
   ],
   "source": [
    "x1 = np.linspace(-1.,4.,int(11))\n",
    "y1 = [hammerhead_shark(i) for i in x1]\n",
    "plt.plot(x1,y1,label= '11 points')\n",
    "plt.xlabel('x')\n",
    "plt.ylabel('$y(x)$')\n",
    "plt.title('11 data points')"
   ]
  },
  {
   "cell_type": "markdown",
   "metadata": {},
   "source": [
    "**Problem 2.C** Create 1e1 points from -1 to 4 and assign it to x. Using this x value, plot y(x)"
   ]
  },
  {
   "cell_type": "code",
   "execution_count": 8,
   "metadata": {},
   "outputs": [
    {
     "data": {
      "text/plain": [
       "Text(0.5, 1.0, '10 data points')"
      ]
     },
     "execution_count": 8,
     "metadata": {},
     "output_type": "execute_result"
    },
    {
     "data": {
      "image/png": "[encoded data removed]",
      "text/plain": [
       "<Figure size 432x288 with 1 Axes>"
      ]
     },
     "metadata": {
      "needs_background": "light"
     },
     "output_type": "display_data"
    }
   ],
   "source": [
    "x2 = np.linspace(-1.,4.,int(1e1))\n",
    "y2 = [hammerhead_shark(k) for k in x2]\n",
    "plt.plot(x2,y2,label= '1e1 points')\n",
    "plt.xlabel('x')\n",
    "plt.ylabel('$y(x)$')\n",
    "plt.title('10 data points')"
   ]
  },
  {
   "cell_type": "markdown",
   "metadata": {},
   "source": [
    "**Problem 2.D** Create 1e5 points from -1 to 4 and assign it to x. Using this x value, plot y(x)"
   ]
  },
  {
   "cell_type": "code",
   "execution_count": 9,
   "metadata": {},
   "outputs": [
    {
     "data": {
      "text/plain": [
       "Text(0.5, 1.0, '1e5 data points')"
      ]
     },
     "execution_count": 9,
     "metadata": {},
     "output_type": "execute_result"
    },
    {
     "data": {
      "image/png": "[encoded data removed]",
      "text/plain": [
       "<Figure size 432x288 with 1 Axes>"
      ]
     },
     "metadata": {
      "needs_background": "light"
     },
     "output_type": "display_data"
    }
   ],
   "source": [
    "x3 = np.linspace(-1.,4.,int(1e5))\n",
    "y3 = [hammerhead_shark(k) for k in x3]\n",
    "plt.plot(x3,y3,label= '1e1 points')\n",
    "plt.xlabel('x')\n",
    "plt.ylabel('$y(x)$')\n",
    "plt.title('1e5 data points')"
   ]
  },
  {
   "cell_type": "markdown",
   "metadata": {},
   "source": [
    "**Problem 2.E** Compare your plots. Discuss your observations."
   ]
  },
  {
   "cell_type": "markdown",
   "metadata": {},
   "source": [
    "The plots of 2.B and 2.D look similar and are smooth graphs, while plot 2.C is coarse, jagged and looks very different. This is because `np.linspace(-1.,4,11)`and `np.linspace(-1.,4,1e5)` include x-values where the function changes, while `np.linspace(-1.,4.,10)` does not include the x values at which the function changes. For this plot, the more data points present do not necessarily mean that the plot will appear more smooth, only because the different cases of the function are linear or constant, so as long as the array includes the x-values at which the function is changing, the plot will appear smooth."
   ]
  },
  {
   "cell_type": "markdown",
   "metadata": {},
   "source": [
    "**Point: 10/10**"
   ]
  },
  {
   "cell_type": "markdown",
   "metadata": {},
   "source": [
    "**Problem 3.A** Given that\n",
    "$$\\cos(x) = \\sum_{j=0}^{\\infty} \\frac{(-1)^j}{(2j)!}x^{2j}, \\sin(x)=\\sum_{j=0}^{\\infty}\\frac{(-1)^j}{(2j+1)!}x^{2j+1}$$\n",
    "and $$\\cos(a-b)=\\cos(a)\\cos(b)+\\sin(a)\\sin(b),$$\n",
    "derive a Taylor series for\n",
    "$$\\cos(2x^4)\\cos(x^4)+\\sin(2x^4)\\sin(x^4)$$ about $x=0$."
   ]
  },
  {
   "cell_type": "markdown",
   "metadata": {},
   "source": [
    "$$\\cos(2x^4)\\cos(x^4)+\\sin(2x^4)\\sin(x^4)=\\cos(2x^4-x^4)=\\cos(x^4)$$\n",
    "$$\\cos(x^4)=\\sum_{j=0}^{\\infty}\\frac{(-1)^j}{(2j)!}(x^4)^{2j} = \\sum_{j=0}^{\\infty} \\frac{(-1)^j}{(2j)!}x^{8j}$$"
   ]
  },
  {
   "cell_type": "markdown",
   "metadata": {},
   "source": [
    "**Problem 3.B** Using the result from 3.A, write a code that computes the Taylor series of\n",
    "$$\\cos(2x^4)\\cos(x^4)+\\sin(2x^4)\\sin(x^4)$$ using recursion, vectorization, and a tolerance based while loop approach."
   ]
  },
  {
   "cell_type": "code",
   "execution_count": 10,
   "metadata": {},
   "outputs": [],
   "source": [
    "def taylor(x,tol):\n",
    "    tot = np.ones(x.size)\n",
    "    aj = np.ones(x.size)\n",
    "    j = 1\n",
    "    while np.max(np.abs(aj))>=tol:\n",
    "        a_j = -(x**8.) / ((2.*j) * (2*j - 1.))\n",
    "        aj *= a_j\n",
    "        tot += aj\n",
    "        j += 1\n",
    "    return tot"
   ]
  },
  {
   "cell_type": "markdown",
   "metadata": {},
   "source": [
    "**Problem 3.C** On the interval $[0,\\pi]$, plot the semi-log error in your approximation for tolerance values $10^{-4}$,$10^{-6}$, and $10^{-8}$. Label axes and provide a legend for your graph."
   ]
  },
  {
   "cell_type": "code",
   "execution_count": 11,
   "metadata": {},
   "outputs": [
    {
     "name": "stderr",
     "output_type": "stream",
     "text": [
      "C:\\Users\\Malida\\Anaconda3\\lib\\site-packages\\ipykernel_launcher.py:1: DeprecationWarning: object of type <class 'float'> cannot be safely interpreted as an integer.\n",
      "  \"\"\"Entry point for launching an IPython kernel.\n",
      "C:\\Users\\Malida\\Anaconda3\\lib\\site-packages\\ipykernel_launcher.py:6: RuntimeWarning: divide by zero encountered in log10\n",
      "  \n",
      "C:\\Users\\Malida\\Anaconda3\\lib\\site-packages\\ipykernel_launcher.py:7: RuntimeWarning: divide by zero encountered in log10\n",
      "  import sys\n",
      "C:\\Users\\Malida\\Anaconda3\\lib\\site-packages\\ipykernel_launcher.py:8: RuntimeWarning: divide by zero encountered in log10\n",
      "  \n"
     ]
    },
    {
     "data": {
      "text/plain": [
       "<matplotlib.legend.Legend at 0x1c2018b9d48>"
      ]
     },
     "execution_count": 11,
     "metadata": {},
     "output_type": "execute_result"
    },
    {
     "data": {
      "image/png": "[encoded data removed]",
      "text/plain": [
       "<Figure size 432x288 with 1 Axes>"
      ]
     },
     "metadata": {
      "needs_background": "light"
     },
     "output_type": "display_data"
    }
   ],
   "source": [
    "x = np.linspace(0.,np.pi,1e3)\n",
    "yreal = np.cos(x**4)\n",
    "ytol1 = taylor(x,1e-4)\n",
    "ytol2 = taylor(x,1e-6)\n",
    "ytol3 = taylor(x,1e-8)\n",
    "err1 = np.log10(np.abs(yreal-ytol1))\n",
    "err2 = np.log10(np.abs(yreal-ytol2))  \n",
    "err3 = np.log10(np.abs(yreal-ytol3))\n",
    "plt.plot(x,err1,label = \"tolerance = $10^{-4}$\",c='y')\n",
    "plt.plot(x,err2,label = \"tolerance = $10^{-6}$\",c='r',ls = \"--\")\n",
    "plt.plot(x,err3,label = \"tolerance = $10^{-8}$\",c='c', ls = \":\")\n",
    "plt.xlabel(\"$x$\")\n",
    "plt.ylabel(\"$\\log_{10}(err)$\")\n",
    "plt.title(\"semi-log error plot of Taylor expansion of $\\cos(x^4)$\")\n",
    "plt.legend(loc=(.1,0.5))"
   ]
  },
  {
   "cell_type": "markdown",
   "metadata": {},
   "source": [
    "**Problem 3.D** Describe your graphs and comment on tends you observe."
   ]
  },
  {
   "cell_type": "markdown",
   "metadata": {},
   "source": [
    "For all three tolerance values, the error is fiarly small for x values near zero. Around $x= 1.5$ the error starts to increase rapidly."
   ]
  },
  {
   "cell_type": "markdown",
   "metadata": {},
   "source": [
    "**Point: 12/12**"
   ]
  },
  {
   "cell_type": "markdown",
   "metadata": {},
   "source": [
    "**Problem 4.A** The Laguerre Polynomials, $L_n(x)$, defined for non-negative integer $n$, is described by the series:\n",
    "$$L_n(x)= \\sum_{k=0}^n\\frac{n!}{k!(n-k)!} \\frac{(-1)^k}{k!}x^k, -2\\leq x\\leq2$$\n",
    "Using a `for`-loop, vectorized recursive approach, write a function which compputes the Laguerre functions for any non-negative integer $n$."
   ]
  },
  {
   "cell_type": "markdown",
   "metadata": {},
   "source": [
    "$$\\begin{aligned}\n",
    "\\frac{a_k}{a_{k-1}} &= \\frac{\\frac{n!}{k!(n-k)!} \\frac{(-1)^k}{k!}x^k}{\\frac{n!}{(k-1)!(n-(k-1))!} \\frac{(-1)^{(k-1)}}{(k-1)!}x^{(k-1)}}\\\\\n",
    "& = \\frac{(k-1)!(n-k+1)!(k-1)!}{k!(n-k)!k!(-1)^{-1}x^{-1}} \\\\ \n",
    "& = -x\\frac{(n-k+1)}{k^2}\n",
    "\\end{aligned}$$\n",
    "$$a_k =  -x\\frac{(n-k+1)}{k^2} a_{k-1}$$\n",
    "$$a_0 = \\frac{n!}{0!(n-0)!}\\frac{(-1)^0}{0!}x^0=1$$"
   ]
  },
  {
   "cell_type": "code",
   "execution_count": 12,
   "metadata": {},
   "outputs": [],
   "source": [
    "def laguerre(x,n):\n",
    "    aj = 1\n",
    "    tot = np.ones(x.size)\n",
    "    for k in range(1,int(n)+1):\n",
    "        aj*= -x*(n-k+1.)/(k**2.)\n",
    "        tot += aj\n",
    "    return tot\n",
    "    "
   ]
  },
  {
   "cell_type": "markdown",
   "metadata": {},
   "source": [
    "**Problem 4.B/C** Make a plot for $L_n(x)$ for $n  = 0,1,2,3,4$ on the same graph. Incldue a legend and axes.\n",
    "\n"
   ]
  },
  {
   "cell_type": "code",
   "execution_count": 13,
   "metadata": {},
   "outputs": [
    {
     "name": "stderr",
     "output_type": "stream",
     "text": [
      "C:\\Users\\Malida\\Anaconda3\\lib\\site-packages\\ipykernel_launcher.py:1: DeprecationWarning: object of type <class 'float'> cannot be safely interpreted as an integer.\n",
      "  \"\"\"Entry point for launching an IPython kernel.\n"
     ]
    },
    {
     "data": {
      "text/plain": [
       "Text(0.5, 1.0, 'Laugerre Polynomials $L_n(x)$')"
      ]
     },
     "execution_count": 13,
     "metadata": {},
     "output_type": "execute_result"
    },
    {
     "data": {
      "image/png": "[encoded data removed]",
      "text/plain": [
       "<Figure size 432x288 with 1 Axes>"
      ]
     },
     "metadata": {
      "needs_background": "light"
     },
     "output_type": "display_data"
    }
   ],
   "source": [
    "x = np.linspace(-2.,2.,1e3)\n",
    "yL0 = laguerre(x,0)\n",
    "yL1 = laguerre(x,1)\n",
    "yL2 = laguerre(x,2)\n",
    "yL3 = laguerre(x,3)\n",
    "yL4 = laguerre(x,4)\n",
    "plt.plot(x,yL0,label=\"$L_0(x)$\", c= 'c')\n",
    "plt.plot(x,yL1,label=\"$L_1(x)$\", c = 'b')\n",
    "plt.plot(x,yL2,label=\"$L_2(x)$\", c = 'k')\n",
    "plt.plot(x,yL3,label=\"$L_3(x)$\", c = 'm')\n",
    "plt.plot(x,yL4,label=\"$L_4(x)$\", c = 'g')\n",
    "plt.legend(loc=(.8,0.5))\n",
    "plt.xlabel('$x$')\n",
    "plt.ylabel('Laguerre Polynomial')\n",
    "plt.title('Laugerre Polynomials $L_n(x)$')"
   ]
  },
  {
   "cell_type": "markdown",
   "metadata": {},
   "source": [
    "**Problem 4.D** Write down the expression for $L_0(x)$ and $L_1(x)$. Compare you expression with the graph. Discuss observations."
   ]
  },
  {
   "cell_type": "markdown",
   "metadata": {},
   "source": [
    "$$L_0(x) = \\frac{0! (-1)^0 }{0!(0-0)!0!}x^0 = 1$$\n",
    "$$L_1(x) = \\frac{1!(-1)^0}{0!(1-0)!0!}x^0 + \\frac{1!(-1)^1}{1!(1-1)!1!}x^1 = 1-x$$"
   ]
  },
  {
   "cell_type": "markdown",
   "metadata": {},
   "source": [
    "We find that $L_0(x) = 1$ for all x. When looking at the graph, we find that we have a constant line at around $y=1$ for $L_0(x)$."
   ]
  },
  {
   "cell_type": "markdown",
   "metadata": {},
   "source": [
    "We find that $L_1(x)=  1-x$. When considering the graph, we find that $L_1(x)$ is decreasing at a cosntant slope of 1, with a y-intercept at $(0,1)$, which is consistent with our result."
   ]
  },
  {
   "cell_type": "markdown",
   "metadata": {},
   "source": [
    "**Point: 14/14**"
   ]
  },
  {
   "cell_type": "markdown",
   "metadata": {},
   "source": [
    "**Total: 46/46**"
   ]
  }
 ],
 "metadata": {
  "kernelspec": {
   "display_name": "Python 3",
   "language": "python",
   "name": "python3"
  },
  "language_info": {
   "codemirror_mode": {
    "name": "ipython",
    "version": 3
   },
   "file_extension": ".py",
   "mimetype": "text/x-python",
   "name": "python",
   "nbconvert_exporter": "python",
   "pygments_lexer": "ipython3",
   "version": "3.7.4"
  }
 },
 "nbformat": 4,
 "nbformat_minor": 2
}
