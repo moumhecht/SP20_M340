{
 "cells": [
  {
   "cell_type": "code",
   "execution_count": 1,
   "metadata": {},
   "outputs": [],
   "source": [
    "import numpy as np #importing library numpy\n",
    "\n",
    "import matplotlib.pyplot as plt  #importing plotting library; use this to make plots\n"
   ]
  },
  {
   "cell_type": "markdown",
   "metadata": {},
   "source": [
    "Create the following matrix in Python and assign it to $x3$:\n",
    "\n",
    "\n",
    "$$x_3 = \n",
    "\\begin{bmatrix}\n",
    "1 & 2 & 3 & 4 & 5 \\\\ \n",
    "3 & 4 & 5 & 6 & 7\n",
    "\\end{bmatrix}$$"
   ]
  },
  {
   "cell_type": "code",
   "execution_count": 2,
   "metadata": {},
   "outputs": [],
   "source": [
    "#enter code to make matrix here\n",
    "\n",
    "x3 = [[1,2,3,4,5],[3,4,5,6,7]]\n"
   ]
  },
  {
   "cell_type": "markdown",
   "metadata": {},
   "source": [
    "Determine the size of the matrix $x3$"
   ]
  },
  {
   "cell_type": "code",
   "execution_count": 3,
   "metadata": {},
   "outputs": [
    {
     "data": {
      "text/plain": [
       "(2, 5)"
      ]
     },
     "execution_count": 3,
     "metadata": {},
     "output_type": "execute_result"
    }
   ],
   "source": [
    "np.shape(x3) \n",
    "#gives dimensions of x3"
   ]
  },
  {
   "cell_type": "markdown",
   "metadata": {},
   "source": [
    "If we use `np.size(x3)`, what result would we obtain?"
   ]
  },
  {
   "cell_type": "code",
   "execution_count": 4,
   "metadata": {},
   "outputs": [
    {
     "data": {
      "text/plain": [
       "10"
      ]
     },
     "execution_count": 4,
     "metadata": {},
     "output_type": "execute_result"
    }
   ],
   "source": [
    "# determine size of matrix x3 using numpy package\n",
    "\n",
    "np.size(x3)"
   ]
  },
  {
   "cell_type": "markdown",
   "metadata": {},
   "source": [
    "Run code \n",
    "`x1 = np.linspace(1,6,6)`\n",
    "to generate a vector **x1**.\n",
    "\n",
    "1. How many elements are in _x1_?\n",
    "2. Write a code to access the first element in _x1_\n",
    "3. Write a code to access the last element in _x1_."
   ]
  },
  {
   "cell_type": "markdown",
   "metadata": {},
   "source": [
    "Create a vector named _x1_"
   ]
  },
  {
   "cell_type": "code",
   "execution_count": 5,
   "metadata": {},
   "outputs": [
    {
     "name": "stdout",
     "output_type": "stream",
     "text": [
      "[1. 2. 3. 4. 5. 6.]\n"
     ]
    }
   ],
   "source": [
    "#create a vector named x1\n",
    "\n",
    "x1= np.linspace(1,6,6) # creates a vector from 1 to 6 with 6 elements\n",
    "\n",
    "#print vector \n",
    "print(x1)"
   ]
  },
  {
   "cell_type": "markdown",
   "metadata": {},
   "source": [
    "Write a code to access the number of elements in _x1_"
   ]
  },
  {
   "cell_type": "code",
   "execution_count": 6,
   "metadata": {},
   "outputs": [
    {
     "name": "stdout",
     "output_type": "stream",
     "text": [
      "6\n",
      "6\n"
     ]
    }
   ],
   "source": [
    "# number of elements in x1\n",
    "\n",
    "print(len(x1))  # prints size of vector (number of elements)\n",
    "print(np.size(x1)) # prints size of vector (number of elements)"
   ]
  },
  {
   "cell_type": "markdown",
   "metadata": {},
   "source": [
    "Write a code to access the first element in _x1_"
   ]
  },
  {
   "cell_type": "code",
   "execution_count": 7,
   "metadata": {},
   "outputs": [
    {
     "name": "stdout",
     "output_type": "stream",
     "text": [
      "1.0\n"
     ]
    }
   ],
   "source": [
    "# access the first element in x1\n",
    "\n",
    "print(x1[0]) # prints first element in x1\n",
    "\n",
    "# NOTE: counting of arrays starts with 0!"
   ]
  },
  {
   "cell_type": "raw",
   "metadata": {},
   "source": [
    "Write a code to access the last element in _x1_"
   ]
  },
  {
   "cell_type": "code",
   "execution_count": 8,
   "metadata": {},
   "outputs": [
    {
     "name": "stdout",
     "output_type": "stream",
     "text": [
      "6.0\n"
     ]
    }
   ],
   "source": [
    "# access last element in x1\n",
    "\n",
    "print(x1[5]) # prints last element in x1"
   ]
  },
  {
   "cell_type": "markdown",
   "metadata": {},
   "source": [
    "Given the vector $x$, extract all numbers satisfying condition $2 \\leq x \\leq 9$."
   ]
  },
  {
   "cell_type": "code",
   "execution_count": 9,
   "metadata": {},
   "outputs": [
    {
     "name": "stdout",
     "output_type": "stream",
     "text": [
      "[ 0.  1.  2.  3.  4.  5.  6.  7.  8.  9. 10.]\n"
     ]
    }
   ],
   "source": [
    "# create a vector x from 0 to 10 with 11 elements\n",
    "x = np.linspace(0,10,11)\n",
    "print(x)"
   ]
  },
  {
   "cell_type": "code",
   "execution_count": 10,
   "metadata": {},
   "outputs": [
    {
     "data": {
      "text/plain": [
       "array([2., 3., 4., 5., 6., 7., 8., 9.])"
      ]
     },
     "execution_count": 10,
     "metadata": {},
     "output_type": "execute_result"
    }
   ],
   "source": [
    "x[2:10]"
   ]
  },
  {
   "cell_type": "markdown",
   "metadata": {},
   "source": [
    "For the above code,\n",
    "- 2 states that we start at the second element on the list, don't forget that the slicing index starts at 0\n",
    "- 10 states that we end at the 10th element in the list, but does not include it.\n",
    "- The colon in the middle states that we want to use slicing to get objects in the list."
   ]
  },
  {
   "cell_type": "code",
   "execution_count": 11,
   "metadata": {},
   "outputs": [
    {
     "data": {
      "text/plain": [
       "array([ 2.,  3.,  4.,  5.,  6.,  7.,  8.,  9., 10.])"
      ]
     },
     "execution_count": 11,
     "metadata": {},
     "output_type": "execute_result"
    }
   ],
   "source": [
    "# What about the following code?\n",
    "x[2:11]\n",
    "# Starts at the second element (index starting at zero) \n",
    "# and ends at the 11th element, not inclusive."
   ]
  },
  {
   "cell_type": "code",
   "execution_count": 12,
   "metadata": {},
   "outputs": [
    {
     "data": {
      "text/plain": [
       "array([1., 3., 5., 7., 9.])"
      ]
     },
     "execution_count": 12,
     "metadata": {},
     "output_type": "execute_result"
    }
   ],
   "source": [
    "# What about the following code?\n",
    "x[1:11:2]\n",
    "# Starts at the first element (index starting at zero)\n",
    "# and ends at the 11th element, non inclusive\n",
    "# elements go up by 2"
   ]
  },
  {
   "cell_type": "code",
   "execution_count": 13,
   "metadata": {},
   "outputs": [
    {
     "data": {
      "text/plain": [
       "array([10.,  9.,  8.,  7.,  6.,  5.,  4.,  3.,  2.,  1.,  0.])"
      ]
     },
     "execution_count": 13,
     "metadata": {},
     "output_type": "execute_result"
    }
   ],
   "source": [
    "# What about the following code?\n",
    "x[::-1]\n",
    "# Elements in x count backwards"
   ]
  },
  {
   "cell_type": "markdown",
   "metadata": {},
   "source": [
    "Note that in the above:\n",
    "- Since there is no value before the first colon, it will start at the beginning index of the list.\n",
    "- Since tehre is no value after the first colon, it will go all the way to the end of the list.\n",
    "- $-1$ makes the index to increment every time by $-1$, causing it to traverse the list by going backwards."
   ]
  },
  {
   "cell_type": "markdown",
   "metadata": {},
   "source": [
    "Given that `xnew = [1, 2, 3, 4]`, write a code to sum the numbers in `xnew`."
   ]
  },
  {
   "cell_type": "code",
   "execution_count": 14,
   "metadata": {},
   "outputs": [
    {
     "name": "stdout",
     "output_type": "stream",
     "text": [
      "10\n"
     ]
    }
   ],
   "source": [
    "xnew = [1, 2, 3, 4] # create matrix xnew\n",
    "sum1 = np.sum(xnew) # adds all elements in xnew\n",
    "print(sum1) # prints value of sum1 to output"
   ]
  },
  {
   "cell_type": "code",
   "execution_count": 15,
   "metadata": {},
   "outputs": [
    {
     "name": "stdout",
     "output_type": "stream",
     "text": [
      "10\n"
     ]
    }
   ],
   "source": [
    "# you can also use the following code to sum\n",
    "sum2 = sum(xnew) \n",
    "# adds all elements in xnew, without numpy package\n",
    "print(sum2)  # prints to output"
   ]
  },
  {
   "cell_type": "markdown",
   "metadata": {},
   "source": [
    "#### Example: Finding the slope of a line.\n",
    "\n",
    "Given the equation $y = 5x$, plot the graph for $0 \\leq x \\leq 10$ and write a code to determine the slope."
   ]
  },
  {
   "cell_type": "code",
   "execution_count": 16,
   "metadata": {},
   "outputs": [
    {
     "name": "stdout",
     "output_type": "stream",
     "text": [
      "5.0\n"
     ]
    }
   ],
   "source": [
    "# Enter your code here\n",
    "\n",
    "# Construct linear space from 0 to 10 for x values\n",
    "xval = np.linspace(0,10,11)\n",
    "yval = 5*xval # Constructs an array with values of 5*x\n",
    "\n",
    "# Calculate slope value\n",
    "slope = (yval[1] - yval[0])/(xval[1] - yval[0])\n",
    "print(slope) # Prints slope value to output"
   ]
  },
  {
   "cell_type": "code",
   "execution_count": 17,
   "metadata": {},
   "outputs": [
    {
     "name": "stdout",
     "output_type": "stream",
     "text": [
      "5.0\n",
      "5.0\n",
      "5.0\n",
      "[5. 5. 5. 5. 5. 5. 5. 5. 5. 5.]\n"
     ]
    }
   ],
   "source": [
    "# Here is an alternative code for finding the slope\n",
    "xval = np.linspace(0,10,11)\n",
    "yval = 5*xval\n",
    "\n",
    "nvals = xval.size # Assigns varible with size of array\n",
    "\n",
    "# Construct an array with slope values using slope formula\n",
    "slopes = (yval[1:nvals] - yval[0:nvals-1])/(xval[1:nvals] - xval[0:nvals-1])\n",
    "\n",
    "print(np.min(slopes)) # Prints minimum value in array 'slopes'\n",
    "print(np.max(slopes)) # Prints maximum value in array 'slopes'\n",
    "print(np.mean(slopes)) # Prints mean value (average) of array 'slopes'\n",
    "\n",
    "print(slopes)\n",
    "\n"
   ]
  }
 ],
 "metadata": {
  "kernelspec": {
   "display_name": "Python 3",
   "language": "python",
   "name": "python3"
  },
  "language_info": {
   "codemirror_mode": {
    "name": "ipython",
    "version": 3
   },
   "file_extension": ".py",
   "mimetype": "text/x-python",
   "name": "python",
   "nbconvert_exporter": "python",
   "pygments_lexer": "ipython3",
   "version": "3.7.4"
  }
 },
 "nbformat": 4,
 "nbformat_minor": 2
}
