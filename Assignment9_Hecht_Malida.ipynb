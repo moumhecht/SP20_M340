{
 "cells": [
  {
   "cell_type": "code",
   "execution_count": 1,
   "metadata": {},
   "outputs": [],
   "source": [
    "import numpy as np\n",
    "import matplotlib.pyplot as plt\n",
    "%matplotlib inline"
   ]
  },
  {
   "cell_type": "markdown",
   "metadata": {},
   "source": [
    "**(Problem 1)**\n",
    "Use simpsons rule to approximate values of $\\pi$ using the integral \n",
    "$$\\frac{\\pi}{2}=\\int_{-1}^{1}\\sqrt{1-x^2}dx$$\n",
    "Show results for $\\Delta x = 1$, $\\frac{1}{2}$, $\\frac{1}{4}$, $\\frac{1}{8}$.\n",
    "Comment on Results.\n"
   ]
  },
  {
   "cell_type": "code",
   "execution_count": 2,
   "metadata": {},
   "outputs": [],
   "source": [
    "def pi_simpson_int(a,b,N,f):\n",
    "    n_int = int(2*N)\n",
    "    exes = np.linspace(a,b,n_int+1)\n",
    "    effs = f(exes)\n",
    "    dx = (b-a)/n_int\n",
    "    return (dx/3)* (effs[0]+effs[n_int]+2*np.sum(effs[2:n_int-1:2]) +4* np.sum(effs[1:n_int:2]))"
   ]
  },
  {
   "cell_type": "code",
   "execution_count": 3,
   "metadata": {},
   "outputs": [],
   "source": [
    "func = lambda x: np.sqrt(1-x**2)"
   ]
  },
  {
   "cell_type": "markdown",
   "metadata": {},
   "source": [
    "For $\\Delta x  = 1$\n",
    "$$\\Delta x  = \\frac{b-a}{n}$$\n",
    "$$n = \\frac{b-a}{\\Delta x}$$\n",
    "But since the code multiplies the value by 2, we take half of n:\n",
    "$$N = \\frac{n}{2} $$\n",
    "$$n = \\frac{1--1}{1}=2$$\n",
    "$$N = \\frac{2}{2} = 1$$"
   ]
  },
  {
   "cell_type": "code",
   "execution_count": 4,
   "metadata": {},
   "outputs": [
    {
     "name": "stdout",
     "output_type": "stream",
     "text": [
      "pi= 2.66667\n"
     ]
    }
   ],
   "source": [
    "dx_1 = 2* pi_simpson_int(-1,1,1,func)\n",
    "print(\"pi= %1.5f\" %dx_1)"
   ]
  },
  {
   "cell_type": "markdown",
   "metadata": {},
   "source": [
    "For $\\Delta x  = \\frac{1}{2}$\n",
    "$$n = \\frac{1--1}{\\frac{1}{2}}= 4$$\n",
    "$$N =2$$"
   ]
  },
  {
   "cell_type": "code",
   "execution_count": 5,
   "metadata": {},
   "outputs": [
    {
     "name": "stdout",
     "output_type": "stream",
     "text": [
      "pi = 2.97607\n"
     ]
    }
   ],
   "source": [
    "dx_2 = 2* pi_simpson_int(-1,1,2,func)\n",
    "print(\"pi = %1.5f\" %dx_2)"
   ]
  },
  {
   "cell_type": "markdown",
   "metadata": {},
   "source": [
    "For $\\Delta x  = \\frac{1}{4}$\n",
    "$$n = \\frac{1--1}{\\frac{1}{4}}= 8$$\n",
    "$$N =4$$"
   ]
  },
  {
   "cell_type": "code",
   "execution_count": 6,
   "metadata": {},
   "outputs": [
    {
     "name": "stdout",
     "output_type": "stream",
     "text": [
      "pi = 3.08360\n"
     ]
    }
   ],
   "source": [
    "dx_3 = 2* pi_simpson_int(-1,1,4,func)\n",
    "print(\"pi = %1.5f\" %dx_3)"
   ]
  },
  {
   "cell_type": "markdown",
   "metadata": {},
   "source": [
    "For $\\Delta x  = \\frac{1}{8}$\n",
    "$$n = \\frac{1--1}{\\frac{1}{8}}= 16$$\n",
    "$$N =8$$"
   ]
  },
  {
   "cell_type": "code",
   "execution_count": 7,
   "metadata": {},
   "outputs": [
    {
     "name": "stdout",
     "output_type": "stream",
     "text": [
      "pi = 3.12119\n"
     ]
    }
   ],
   "source": [
    "dx_4 = 2* pi_simpson_int(-1,1,8,func)\n",
    "print(\"pi = %1.5f\" %dx_4)"
   ]
  },
  {
   "cell_type": "markdown",
   "metadata": {},
   "source": [
    "**Comment:**\n",
    "As the number of intervals increases (the size of the intervals decreases) the approximation to pi gets closer to the actual value."
   ]
  },
  {
   "cell_type": "markdown",
   "metadata": {},
   "source": [
    "**(Problem 2A)**\n",
    "Write a code to graph the following function on the interval $[-1,4]$:\n",
    "$$y(x) = \\begin{cases}\n",
    "0 & \\textrm{for} & x<0 \\\\\n",
    "x & \\textrm{for} & 0\\leq x \\leq 1 \\\\\n",
    "2-x & \\textrm{for} & 1<x\\leq2 \\\\\n",
    "0 & \\textrm{for} & x>2 \\\\\n",
    "\\end{cases}$$"
   ]
  },
  {
   "cell_type": "code",
   "execution_count": 8,
   "metadata": {},
   "outputs": [],
   "source": [
    "def finn(x):\n",
    "    if x<0:\n",
    "        return 0\n",
    "    elif x<=1:\n",
    "        return x\n",
    "    elif x<=2:\n",
    "        return 2-x\n",
    "    else:\n",
    "        return 0"
   ]
  },
  {
   "cell_type": "markdown",
   "metadata": {},
   "source": [
    "**(Problem 2B)**\n",
    "Create 11 points from -1 to 4 and assign it to x, using this x value, plot y(x)"
   ]
  },
  {
   "cell_type": "code",
   "execution_count": 9,
   "metadata": {},
   "outputs": [
    {
     "data": {
      "text/plain": [
       "Text(0, 0.5, '$y(x)$')"
      ]
     },
     "execution_count": 9,
     "metadata": {},
     "output_type": "execute_result"
    },
    {
     "data": {
      "image/png": "[encoded data removed]",
      "text/plain": [
       "<Figure size 432x288 with 1 Axes>"
      ]
     },
     "metadata": {
      "needs_background": "light"
     },
     "output_type": "display_data"
    }
   ],
   "source": [
    "x = np.linspace(-1,4,11)\n",
    "whys = [finn(k) for k in x]\n",
    "plt.plot(x,whys)\n",
    "plt.xlabel('x')\n",
    "plt.ylabel('$y(x)$')"
   ]
  },
  {
   "cell_type": "markdown",
   "metadata": {},
   "source": [
    "**(Probelm 2C)** Create 1e1 points from -1 to 4 and assign it x. Using this x value, plot y(x)"
   ]
  },
  {
   "cell_type": "code",
   "execution_count": 10,
   "metadata": {},
   "outputs": [
    {
     "data": {
      "text/plain": [
       "Text(0, 0.5, '$y(x)$')"
      ]
     },
     "execution_count": 10,
     "metadata": {},
     "output_type": "execute_result"
    },
    {
     "data": {
      "image/png": "[encoded data removed]",
      "text/plain": [
       "<Figure size 432x288 with 1 Axes>"
      ]
     },
     "metadata": {
      "needs_background": "light"
     },
     "output_type": "display_data"
    }
   ],
   "source": [
    "x = np.linspace(-1,4,int(1e1))\n",
    "whys = [finn(k) for k in x]\n",
    "plt.plot(x,whys)\n",
    "plt.xlabel('x')\n",
    "plt.ylabel('$y(x)$')"
   ]
  },
  {
   "cell_type": "markdown",
   "metadata": {},
   "source": [
    "**(Problem 2D)**\n",
    "Create 1e5 points from -1 to 4 and assign it to x. Using this value x value, plot y(x)"
   ]
  },
  {
   "cell_type": "code",
   "execution_count": 11,
   "metadata": {},
   "outputs": [
    {
     "data": {
      "text/plain": [
       "Text(0, 0.5, '$y(x)$')"
      ]
     },
     "execution_count": 11,
     "metadata": {},
     "output_type": "execute_result"
    },
    {
     "data": {
      "image/png": "[encoded data removed]",
      "text/plain": [
       "<Figure size 432x288 with 1 Axes>"
      ]
     },
     "metadata": {
      "needs_background": "light"
     },
     "output_type": "display_data"
    }
   ],
   "source": [
    "x = np.linspace(-1,4,int(1e5))\n",
    "whys = [finn(k) for k in x]\n",
    "plt.plot(x,whys)\n",
    "plt.xlabel('x')\n",
    "plt.ylabel('$y(x)$')"
   ]
  },
  {
   "cell_type": "markdown",
   "metadata": {},
   "source": [
    "**(Problem 2e)**\n",
    "Compare your plots. Discuss observations."
   ]
  },
  {
   "cell_type": "markdown",
   "metadata": {},
   "source": [
    "Plots 2B and 2D look the same, despite 2D having more points. 2B works because the x values in the array include the x values at the transition points described in the function (x = 0, x = 1, x= 2). 2C looks jagged because the x values in the array do not include the values at the transition points, x = 0, x=1, x=2."
   ]
  },
  {
   "cell_type": "markdown",
   "metadata": {},
   "source": [
    "**(Problem 3)**\n",
    "Write a program that uses the bisection method to solve the nonlinear equation \n",
    "$$x = e^{-x}$$\n",
    "Use your own initial interval."
   ]
  },
  {
   "cell_type": "markdown",
   "metadata": {},
   "source": [
    "$$\\begin{aligned}\n",
    "x & = e^{-x} \\\\\n",
    "0 & = e^{-x}-x\n",
    "\\end{aligned}$$"
   ]
  },
  {
   "cell_type": "code",
   "execution_count": 12,
   "metadata": {},
   "outputs": [],
   "source": [
    "def bisection(a,b,f,tol):\n",
    "    fa = f(a)\n",
    "    fb = f(b)\n",
    "    if fa*fb<0:\n",
    "        c = (a+b)/2.\n",
    "        see_guesses = np.array([c]) # build an array to record the estimates we make for the root\n",
    "        fc = f(c)\n",
    "        while np.abs(fc)>=tol:\n",
    "            if fa*fc<0:\n",
    "                b = c\n",
    "            else:\n",
    "                a = c\n",
    "            c = (a+b)/2.\n",
    "            capproxs = np.append(see_guesses,c)\n",
    "            fc = f(c)\n",
    "     \n",
    "        print(\"x= %1.15f\" %c)\n",
    "    else:\n",
    "        print(\"A root cannot be found in this interval\")"
   ]
  },
  {
   "cell_type": "code",
   "execution_count": 13,
   "metadata": {},
   "outputs": [],
   "source": [
    "func = lambda x: np.exp(-x)-x"
   ]
  },
  {
   "cell_type": "code",
   "execution_count": 14,
   "metadata": {},
   "outputs": [
    {
     "name": "stdout",
     "output_type": "stream",
     "text": [
      "x= 0.567138671875000\n"
     ]
    }
   ],
   "source": [
    "bisection(0,2,func,1e-5)"
   ]
  },
  {
   "cell_type": "markdown",
   "metadata": {},
   "source": [
    "**(Problem 4)**\n",
    "$$F = \\frac{A}{\\int_0^{T_1}c(t)dt + \\int_{T_1}^{T_2}m(t)dt}$$\n",
    "Where $A  = 5$, $T_1 = \\frac{\\pi}{4}$, $T_2 = \\frac{\\pi}{2}$\n",
    "$$c(t) = \\cos(t) -\\sin(t)$$\n",
    "$$m(t) = \\sin(t)-\\cos(t)$$"
   ]
  },
  {
   "cell_type": "markdown",
   "metadata": {},
   "source": [
    "**(Problem 4A)** Use the Trapezoid method to compute the denominator of the above formula and then compute F."
   ]
  },
  {
   "cell_type": "code",
   "execution_count": 15,
   "metadata": {},
   "outputs": [],
   "source": [
    "def trapezoid(a,b,N,f):\n",
    "    n_int = int(N) \n",
    "    exes = np.linspace(a,b,n_int+1)\n",
    "    effs = f(exes)\n",
    "    dx = (b-a)/N\n",
    "    return dx/2.*(effs[0] + effs[n_int] + 2.*np.sum(effs[1:n_int]))"
   ]
  },
  {
   "cell_type": "code",
   "execution_count": 16,
   "metadata": {},
   "outputs": [],
   "source": [
    "see  = lambda t: np.cos(t) - np.sin(t)\n",
    "emm  = lambda t: np.sin(t) - np.cos(t)\n",
    "T1 = np.pi/4\n",
    "T2 = np.pi/2"
   ]
  },
  {
   "cell_type": "code",
   "execution_count": 17,
   "metadata": {},
   "outputs": [
    {
     "name": "stdout",
     "output_type": "stream",
     "text": [
      "6.0355342161844865\n"
     ]
    }
   ],
   "source": [
    "denominator_trap = trapezoid(0,T1,1e3,see) + trapezoid(T1,T2,1e3,emm)\n",
    "F_trap = 5/denominator_trap\n",
    "print(F_trap)"
   ]
  },
  {
   "cell_type": "markdown",
   "metadata": {},
   "source": [
    "**(Problem 4B)** Use the Simpson's method to compute the denominator of the above formula and then compute F."
   ]
  },
  {
   "cell_type": "code",
   "execution_count": 18,
   "metadata": {},
   "outputs": [],
   "source": [
    "def simpson(a,b,N,f):\n",
    "    n_int = int(2*N)\n",
    "    exes = np.linspace(a,b,n_int+1)\n",
    "    effs = f(exes)\n",
    "    dx = (b-a)/n_int\n",
    "    return (dx/3)* (effs[0]+effs[n_int]+2*np.sum(effs[2:n_int-1:2]) +4* np.sum(effs[1:n_int:2]))"
   ]
  },
  {
   "cell_type": "code",
   "execution_count": 19,
   "metadata": {},
   "outputs": [
    {
     "name": "stdout",
     "output_type": "stream",
     "text": [
      "6.035533905932736\n"
     ]
    }
   ],
   "source": [
    "denominator_simp= simpson(0,T1,1e3,see) + simpson(T1,T2,1e3,emm)\n",
    "F_simp = 5/denominator_simp\n",
    "print(F_simp)"
   ]
  },
  {
   "cell_type": "markdown",
   "metadata": {},
   "source": [
    "**(Problem 5)** The Hermite Polynomials $H_n(x)$ are such that $H_0(x) = 1$, $H_1(x) =2x$ and for $n\\geq 2 $,$H_n(x)$  satisfies the recurrence relationship\n",
    "$$H_n(x) = 2x H_{n-1}(x)-2(n-1)H_{n-2}(x), n\\geq2$$"
   ]
  },
  {
   "cell_type": "markdown",
   "metadata": {},
   "source": [
    "**(Problem 5A)**\n",
    "Write  resusrive program to find any Hermite polynomial $H_n(x)$."
   ]
  },
  {
   "cell_type": "code",
   "execution_count": 20,
   "metadata": {},
   "outputs": [],
   "source": [
    "def hermite(x,n):\n",
    "    H0 = 1\n",
    "    H1 = 2*x\n",
    "\n",
    "    if n == 0:\n",
    "        return H0\n",
    "    elif n == 1:\n",
    "        return H1\n",
    "    else:\n",
    "        Hn1 = H1\n",
    "        Hn2 = H0\n",
    "        for k in range (2,n+1):\n",
    "            Hn = (2*x*Hn1) - (2*(n-1)*Hn2)\n",
    "            Hn2 = Hn1\n",
    "            Hn1 = Hn\n",
    "        return Hn"
   ]
  },
  {
   "cell_type": "markdown",
   "metadata": {},
   "source": [
    "**(Problem 5B)** Generate a plot of the first six Hermite polynomials on the interval $-2\\leq x \\leq 2$"
   ]
  },
  {
   "cell_type": "code",
   "execution_count": 21,
   "metadata": {},
   "outputs": [
    {
     "data": {
      "text/plain": [
       "Text(0.5, 1.0, 'Hermite Polynomials')"
      ]
     },
     "execution_count": 21,
     "metadata": {},
     "output_type": "execute_result"
    },
    {
     "data": {
      "image/png": "[encoded data removed]",
      "text/plain": [
       "<Figure size 432x288 with 1 Axes>"
      ]
     },
     "metadata": {
      "needs_background": "light"
     },
     "output_type": "display_data"
    }
   ],
   "source": [
    "exes = np.linspace(-2,2,int(1e3))\n",
    "\n",
    "whys0 = [hermite(i,0) for i in exes]\n",
    "plt.plot(exes,whys0, label = 'n=0', c = 'm')\n",
    "\n",
    "whys1 =  [hermite(i,1) for i in exes]\n",
    "plt.plot(exes,whys1, label = 'n=1', c = 'r')\n",
    "\n",
    "whys2 =  [hermite(i,2) for i in exes]\n",
    "plt.plot(exes,whys2, label = 'n=2', c = 'c')\n",
    "\n",
    "whys3 =  [hermite(i,3) for i in exes]\n",
    "plt.plot(exes,whys3, label = 'n=3', c = 'g')\n",
    "\n",
    "whys4 =  [hermite(i,4) for i in exes]\n",
    "plt.plot(exes,whys4, label = 'n=4', c = 'y')\n",
    "\n",
    "whys5 =  [hermite(i,5) for i in exes]\n",
    "plt.plot(exes,whys5, label = 'n=5', c = 'k')\n",
    "\n",
    "plt.xlabel('x')\n",
    "plt.ylabel('$H_n(x)$')\n",
    "plt.legend(loc=(.77,.75))\n",
    "plt.title('Hermite Polynomials')"
   ]
  },
  {
   "cell_type": "markdown",
   "metadata": {},
   "source": [
    "**(Problem 6A)**\n",
    "Compute a root of the function\n",
    "$$f(x)=x^2-2$$ using the secant method with inital guess $x_0 = 1.5$ and $x_1 = 1$ "
   ]
  },
  {
   "cell_type": "code",
   "execution_count": 22,
   "metadata": {},
   "outputs": [],
   "source": [
    "def secant(x0,x1,f,tol):\n",
    "    f0 = f(x0)\n",
    "    f1 = f(x1)\n",
    "    x2 = x1 - f1*(x1-x0)/(f1-f0)\n",
    "    \n",
    "    while np.abs(f1) >= tol:\n",
    "        x0 = x1\n",
    "        x1 = x2\n",
    "        f0 = f1\n",
    "        f1 = f(x1)\n",
    "        x2 = x1 - f1*(x1-x0)/(f1-f0)\n",
    "    \n",
    "    print(\"A root is x = %1.5f\" %x2)"
   ]
  },
  {
   "cell_type": "code",
   "execution_count": 23,
   "metadata": {},
   "outputs": [],
   "source": [
    "func = lambda x: x**2 - 2"
   ]
  },
  {
   "cell_type": "code",
   "execution_count": 24,
   "metadata": {},
   "outputs": [
    {
     "name": "stdout",
     "output_type": "stream",
     "text": [
      "A root is x = 1.41421\n"
     ]
    }
   ],
   "source": [
    "secant(1.5,1,func,1e-5)"
   ]
  },
  {
   "cell_type": "markdown",
   "metadata": {},
   "source": [
    "**(Problem 6B)** Choose a different initial guess and compute another root of $f(x)$"
   ]
  },
  {
   "cell_type": "code",
   "execution_count": 25,
   "metadata": {},
   "outputs": [
    {
     "name": "stdout",
     "output_type": "stream",
     "text": [
      "A root is x = -1.41421\n"
     ]
    }
   ],
   "source": [
    "secant(-1.5,0,func,1e-5)"
   ]
  },
  {
   "cell_type": "markdown",
   "metadata": {},
   "source": [
    "**(Problem 7)**\n",
    "Here is a cubic polynomial with three closely spaced real roots:\n",
    "$$p(x) = 580x^4-2320x^3-1160x^2+6960x-1740$$"
   ]
  },
  {
   "cell_type": "markdown",
   "metadata": {},
   "source": [
    "**(Problem 7)**\n",
    "Here is a  polynomial with three closely spaced real roots:\n",
    "$$p(x) = 580x^4-2320x^3-1160x^2+6960x-1740$$"
   ]
  },
  {
   "cell_type": "markdown",
   "metadata": {},
   "source": [
    "**(Problem 7A)** What are the exact roots of $p(x)$?"
   ]
  },
  {
   "cell_type": "markdown",
   "metadata": {},
   "source": [
    "We begin by factoring the polynomial:\n",
    "$$\\begin{aligned}\n",
    "p(x)&= 580x^4-2320x^3-1160x^2+6960x-1740\\\\\n",
    "& = 580(x^4-4x^3-2x^2+12x-3) \\\\\n",
    "& = 580 \\big( (x^4-2x^2-3)+(-4x^3+12x)\\big)\\\\\n",
    "& = 580 \\big( (x^2-3)(x^2+1)-4x(x^2-3)\\big)\\\\\n",
    "& = 580 (x^2-3)(x^2-4x+1)\\\\\n",
    "\\end{aligned}$$"
   ]
  },
  {
   "cell_type": "markdown",
   "metadata": {},
   "source": [
    "To find the roots, we must set the polynomial equal to zero:\n",
    "$$\\begin{aligned}\n",
    "0&= 580x^4-2320x^3-1160x^2+6960x-1740\\\\\n",
    "& = 580 (x^2-3)(x^2-4x+1)\\\\\n",
    "& =(x^2-3)(x^2-4x+1)\\\\\n",
    "\\end{aligned}$$\n",
    "\n",
    "Then, our roots are:\n",
    "$$\\begin{aligned}\n",
    "0&=(x^2-3)\\\\\n",
    "3 &= x^2 \\\\\n",
    "\\pm\\sqrt{3} &= x\n",
    "\\end{aligned}$$\n",
    "And,\n",
    "$$\\begin{aligned}\n",
    "0&=(x^2-4x+1)\\\\\n",
    "x&= \\frac{4\\pm\\sqrt{16-4(1)(1)}}{2}\\\\\n",
    "x&= 2\\pm\\sqrt{3}\n",
    "\\end{aligned}$$"
   ]
  },
  {
   "cell_type": "code",
   "execution_count": 26,
   "metadata": {},
   "outputs": [
    {
     "data": {
      "text/plain": [
       "1.7320508075688772"
      ]
     },
     "execution_count": 26,
     "metadata": {},
     "output_type": "execute_result"
    }
   ],
   "source": [
    "np.sqrt(3)"
   ]
  },
  {
   "cell_type": "code",
   "execution_count": 27,
   "metadata": {},
   "outputs": [
    {
     "data": {
      "text/plain": [
       "3.732050807568877"
      ]
     },
     "execution_count": 27,
     "metadata": {},
     "output_type": "execute_result"
    }
   ],
   "source": [
    "2+np.sqrt(3)"
   ]
  },
  {
   "cell_type": "code",
   "execution_count": 28,
   "metadata": {},
   "outputs": [
    {
     "data": {
      "text/plain": [
       "0.2679491924311228"
      ]
     },
     "execution_count": 28,
     "metadata": {},
     "output_type": "execute_result"
    }
   ],
   "source": [
    "2-np.sqrt(3)"
   ]
  },
  {
   "cell_type": "markdown",
   "metadata": {},
   "source": [
    "Then, the three closely spaced roots are $x = -\\sqrt{3},2-2\\sqrt{3}, \\sqrt{3}$"
   ]
  },
  {
   "cell_type": "markdown",
   "metadata": {},
   "source": [
    "**(Problem 7B)**\n",
    "Plot $p(x)$ for $-2\\leq x \\leq 4$. And plot the location of the four roots on the graph."
   ]
  },
  {
   "cell_type": "code",
   "execution_count": 29,
   "metadata": {},
   "outputs": [
    {
     "data": {
      "text/plain": [
       "[<matplotlib.lines.Line2D at 0x29d999def48>]"
      ]
     },
     "execution_count": 29,
     "metadata": {},
     "output_type": "execute_result"
    },
    {
     "data": {
      "image/png": "[encoded data removed]",
      "text/plain": [
       "<Figure size 432x288 with 1 Axes>"
      ]
     },
     "metadata": {
      "needs_background": "light"
     },
     "output_type": "display_data"
    }
   ],
   "source": [
    "poly = lambda x: 580*x**4 -2320*x**3-1160*x**2 +6960*x-1740\n",
    "exes = np.linspace(-2,4,int(1e3))\n",
    "whys = [poly(k) for k in exes]\n",
    "whys0 = np.zeros(exes.size)\n",
    "plt.plot(exes,whys)\n",
    "plt.plot(exes,whys0)\n",
    "xzeroes = [-np.sqrt(3),2-np.sqrt(3),2+np.sqrt(3),np.sqrt(3)]\n",
    "yzeroes = [0,0,0,0]\n",
    "plt.plot(xzeroes,yzeroes,'*', c = 'k')"
   ]
  },
  {
   "cell_type": "markdown",
   "metadata": {},
   "source": [
    "**(Problem 7C)**\n",
    "Starting with $x_0 = 2$, what does Newton's method do?"
   ]
  },
  {
   "cell_type": "code",
   "execution_count": 30,
   "metadata": {},
   "outputs": [
    {
     "name": "stdout",
     "output_type": "stream",
     "text": [
      "A root is x= 1.732050807568877\n"
     ]
    }
   ],
   "source": [
    "def newton(f,df,x0,tol):\n",
    "    x1 = x0 - f(x0)/df(x0)\n",
    "    \n",
    "    while np.abs(x1-x0)>=tol:\n",
    "        x0 = x1\n",
    "        x1 = x0 - f(x0)/df(x0)\n",
    "    print(\"A root is x= %1.15f\" %x1)\n",
    "    \n",
    "    \n",
    "dpoly = lambda x: 4*580*x**3 - 3*2320*x**2-2*(1160)*x +6960\n",
    "\n",
    "newton(poly,dpoly,2,1e-5)"
   ]
  },
  {
   "cell_type": "markdown",
   "metadata": {},
   "source": [
    "Newton's Method starts at $x=2$ and relies on the first order linear approximation. Starting with $x=2$, Newton's method determines the tangent line at that x-value, then extrapolates the x-intercept of that tangent line. The new tangent line is determined for the x-value at that new intercept. This is done until it converges to a root. For this value, we have found the root $x=1.732$."
   ]
  },
  {
   "cell_type": "markdown",
   "metadata": {},
   "source": [
    "**(Problem 7D)**\n",
    "Starting with $x_0 = 0.3$ and $x_1 = 0.9$, what does the secant method do?"
   ]
  },
  {
   "cell_type": "code",
   "execution_count": 31,
   "metadata": {},
   "outputs": [
    {
     "name": "stdout",
     "output_type": "stream",
     "text": [
      "A root is x = 0.26795\n"
     ]
    }
   ],
   "source": [
    "secant(0.3,0.9,poly,1e-3)"
   ]
  },
  {
   "cell_type": "markdown",
   "metadata": {},
   "source": [
    "The Secant Method takes two input guesses and uses an iterative process to find the root closest to $x = 0.3$ and $x = 0.9$."
   ]
  },
  {
   "cell_type": "markdown",
   "metadata": {},
   "source": [
    "**(Problem 7E)** Starting with the interval $[0.5,2.9]$, what does the bisection method do?"
   ]
  },
  {
   "cell_type": "code",
   "execution_count": 32,
   "metadata": {},
   "outputs": [
    {
     "name": "stdout",
     "output_type": "stream",
     "text": [
      "x= 1.732050806283951\n"
     ]
    }
   ],
   "source": [
    "bisection(0.5,2.9,poly,1e-5)"
   ]
  },
  {
   "cell_type": "markdown",
   "metadata": {},
   "source": [
    "The bisection method finds the root that is in between $x= 0.5$ and $x = 2.9$. The bisection method found the root $x = 1.732$."
   ]
  }
 ],
 "metadata": {
  "kernelspec": {
   "display_name": "Python 3",
   "language": "python",
   "name": "python3"
  },
  "language_info": {
   "codemirror_mode": {
    "name": "ipython",
    "version": 3
   },
   "file_extension": ".py",
   "mimetype": "text/x-python",
   "name": "python",
   "nbconvert_exporter": "python",
   "pygments_lexer": "ipython3",
   "version": "3.7.6"
  }
 },
 "nbformat": 4,
 "nbformat_minor": 4
}
