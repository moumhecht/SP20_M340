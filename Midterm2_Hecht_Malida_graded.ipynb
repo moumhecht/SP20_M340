{
 "cells": [
  {
   "cell_type": "markdown",
   "metadata": {},
   "source": [
    "# Midterm Exam 2\n",
    "## Due Wednesday, April 8th at 5:30pm\n",
    "\n",
    "###  Use the following format for homework filename:  \n",
    "\n",
    "`Midterm2_LastName_FirstName.ipynb`"
   ]
  },
  {
   "cell_type": "code",
   "execution_count": 1,
   "metadata": {},
   "outputs": [],
   "source": [
    "import numpy as np\n",
    "import matplotlib.pyplot as plt\n",
    "%matplotlib inline"
   ]
  },
  {
   "cell_type": "markdown",
   "metadata": {},
   "source": [
    "Please sign below:\n",
    "\n",
    "I, the undersigned, hereby pledge that all work on this examination is my own. I have neither given assistance to any other student, nor received assistance from any other student. I understand that cheating on this examination will result in a failure as well as being reported to San Diego State University’s Division of Academic Affairs.\t\n",
    "\n",
    "Name: Malida Hecht"
   ]
  },
  {
   "cell_type": "markdown",
   "metadata": {},
   "source": [
    "**Problem 1** : (7 pts)\n",
    "\n",
    "Find intervals of size 1.0, each containing one or more roots of\n",
    "\n",
    "$$\n",
    "y = -19(x-0.5)(x-1) + \\exp(x) - \\exp(-2x), \\ \\quad -10 < x < 10.\n",
    "$$\n",
    "\n",
    "**Hint**: Write a Python program to check if there is a root between any of these intervals [-10,-9], [-9,-8], [-8,-7], $\\cdots$ [8,9], [9,10]. Your program should `identify the intervals` that have at least one root. Use a  root finding method your learnt in class.\n",
    "\n",
    "Example: If there is a root between an interval [9,10], your program should state the following:\n",
    "\n",
    "`There is a root between 9 and 10.`\n",
    "\n",
    "Note: Print the statement for all intervals for which there is a root."
   ]
  },
  {
   "cell_type": "code",
   "execution_count": 2,
   "metadata": {},
   "outputs": [],
   "source": [
    "f = lambda x: -19.0*(x-0.5)*(x-1.0)+np.exp(x)-np.exp(-2.0*x)\n",
    "xtests = np.linspace(-10,10,21)"
   ]
  },
  {
   "cell_type": "code",
   "execution_count": 3,
   "metadata": {},
   "outputs": [],
   "source": [
    "def root_finder(f,a,b,tol):\n",
    "    f_a = f(a)\n",
    "    f_b = f(b)\n",
    "    a1=a\n",
    "    b1=b\n",
    "    if f_a*f_b<0:\n",
    "        c=(a+b)/2\n",
    "        guesses = np.array([c])\n",
    "        f_c = f(c)\n",
    "        while np.abs(f_c)>=tol:\n",
    "            if f_a*f_c<0:\n",
    "                b1=c\n",
    "            else:\n",
    "                a1=c\n",
    "            c=(a1+b1)/2\n",
    "            guesses=np.append(guesses,c)\n",
    "            f_c = f(c)\n",
    "            \n",
    "        print(\"\\033[1;34m There is a root between %d and %d \\033[0;30m\" %(a,b))\n",
    "        \n",
    "    else:\n",
    "        print(\"There is no root between %d and %d\" %(a,b))"
   ]
  },
  {
   "cell_type": "code",
   "execution_count": 4,
   "metadata": {},
   "outputs": [
    {
     "name": "stdout",
     "output_type": "stream",
     "text": [
      "There is no root between -10 and -9\n",
      "There is no root between -9 and -8\n",
      "There is no root between -8 and -7\n",
      "There is no root between -7 and -6\n",
      "There is no root between -6 and -5\n",
      "There is no root between -5 and -4\n",
      "There is no root between -4 and -3\n",
      "There is no root between -3 and -2\n",
      "There is no root between -2 and -1\n",
      "There is no root between -1 and 0\n",
      "\u001b[1;34m There is a root between 0 and 1 \u001b[0;30m\n",
      "\u001b[1;34m There is a root between 1 and 2 \u001b[0;30m\n",
      "There is no root between 2 and 3\n",
      "There is no root between 3 and 4\n",
      "There is no root between 4 and 5\n",
      "There is no root between 5 and 6\n",
      "\u001b[1;34m There is a root between 6 and 7 \u001b[0;30m\n",
      "There is no root between 7 and 8\n",
      "There is no root between 8 and 9\n",
      "There is no root between 9 and 10\n"
     ]
    }
   ],
   "source": [
    "for k in range(0,xtests.size-1):\n",
    "    root_finder(f,xtests[k],xtests[k+1],1e-10)"
   ]
  },
  {
   "cell_type": "markdown",
   "metadata": {},
   "source": [
    "Nice formatting!\n",
    "\n",
    "**Point: 7/7**"
   ]
  },
  {
   "cell_type": "markdown",
   "metadata": {},
   "source": [
    "**Problem 2** : (15 pts)\n",
    "\n",
    "The normal probability distribution is defined as:\n",
    "\n",
    "$$\n",
    "p(x) = \\frac{1}{\\sigma \\sqrt{2\\pi}} e^{-(x-\\mu)^2/2\\sigma^2}\n",
    "$$\n",
    "\n",
    "where $\\mu$ is the mean, or average and $\\sigma$ is the variance. This is the famous bell-shaped curve that one hears so much about; the mean gives the center of the bell and the variance gives the width of it. If $x$ is distributed in this fashion, then the probability that $a \\le x \\le b$ is given by the integral\n",
    "\n",
    "$$P(a \\le x \\le b) = \\int_a^b p(x) \\ dx $$\n",
    "\n",
    "(a) Use the change of variable $z = ( x − \\mu )/\\sigma$ to show that $$P(-m\\sigma \\le x \\le m\\sigma) =  \\frac{1}{\\sqrt{2\\pi}} \\int_{-m}^m e^{-z^2/2} \\ dz $$\n",
    "\n",
    "\n",
    "(b) Compute values of $P(-m\\sigma \\le x \\le m\\sigma)$ for $m = 1 , 2 , 3 ,$ using Simpson’s rule.\n"
   ]
  },
  {
   "cell_type": "markdown",
   "metadata": {},
   "source": [
    "**(Part A)**\n",
    "$$\\begin{aligned}\n",
    "z & = \\frac{x-\\mu}{\\sigma}= \\frac{x}{\\sigma}-\\frac{\\mu}{\\sigma} \\\\\n",
    "dz & = \\frac{dx}{\\sigma}\\\\\n",
    "dx &= \\sigma dz\n",
    "\\end{aligned}$$"
   ]
  },
  {
   "cell_type": "markdown",
   "metadata": {},
   "source": [
    "$$\\begin{aligned}\n",
    "&&-m\\sigma &\\leq x\\leq m \\sigma \\\\\n",
    "\\iff& &-m\\sigma - \\mu &\\leq x -\\mu \\leq m\\sigma - \\mu \\\\ \n",
    "\\iff && \\frac{-m\\sigma - \\mu }{\\sigma} &\\leq \\frac{x -\\mu}{\\sigma} \\leq \\frac{m\\sigma - \\mu }{\\sigma} \\\\\n",
    "\\iff& & \\frac{-m\\sigma}{\\sigma}-\\frac{\\mu}{\\sigma} & \\leq z \\leq \\frac{m\\sigma}{\\sigma}-\\frac{\\mu}{\\sigma}\\\\\n",
    "\\iff && -m-\\frac{\\mu}{\\sigma}& \\leq z \\leq m-\\frac{\\mu}{\\sigma}\n",
    "\\end{aligned} $$"
   ]
  },
  {
   "cell_type": "markdown",
   "metadata": {},
   "source": [
    "$$\\begin{aligned}\n",
    "P(-m\\sigma\\leq x\\leq m\\sigma) &= \\int_{-m\\sigma}^{m\\sigma}p(x)dx \\\\\n",
    " &= \\int_{-m\\sigma}^{m\\sigma}\\frac{1}{\\sigma\\sqrt{2\\pi}}e^{-(x-\\mu)^2/2\\sigma^2}dx \\\\\n",
    " &= \\int_{-m\\sigma}^{m\\sigma}\\frac{1}{\\sigma\\sqrt{2\\pi}}e^{-((x-\\mu)/\\sigma)^2/2}dx \\\\\n",
    " &=\\int_{-m}^{m}\\frac{1}{\\sigma\\sqrt{2\\pi}}e^{-z^2/2}\\sigma dz \\\\\n",
    "  &=\\int_{-m}^{m}\\frac{1}{\\sqrt{2\\pi}}e^{-z^2/2} dz \n",
    "\\end{aligned}$$"
   ]
  },
  {
   "cell_type": "markdown",
   "metadata": {},
   "source": [
    "**(Part B)**"
   ]
  },
  {
   "cell_type": "code",
   "execution_count": 5,
   "metadata": {},
   "outputs": [],
   "source": [
    "def simpson_integration(a,b,n,f):\n",
    "    if n%2==0:\n",
    "        exes = np.linspace(a,b,int(n+1))\n",
    "        funcs = f(exes)\n",
    "        dx = (b-a)/n\n",
    "        return dx/3.*(funcs[0] + funcs[int(n)] + 2.*np.sum(funcs[2:int(n-1):2]) + 4.*np.sum(funcs[1:int(n):2])) \n",
    "    else:\n",
    "        print(\"N is not even!\")"
   ]
  },
  {
   "cell_type": "code",
   "execution_count": 6,
   "metadata": {},
   "outputs": [
    {
     "name": "stdout",
     "output_type": "stream",
     "text": [
      "For m=1:\n"
     ]
    },
    {
     "data": {
      "text/plain": [
       "0.6826894921371719"
      ]
     },
     "execution_count": 6,
     "metadata": {},
     "output_type": "execute_result"
    }
   ],
   "source": [
    "func= lambda z: (1/np.sqrt(2.*np.pi)) * np.exp((-z**2.)/2.)\n",
    "\n",
    "print(\"For m=1:\")\n",
    "simpson_integration(-1,1,1e3,func) "
   ]
  },
  {
   "cell_type": "code",
   "execution_count": 7,
   "metadata": {},
   "outputs": [
    {
     "name": "stdout",
     "output_type": "stream",
     "text": [
      "For m=2:\n"
     ]
    },
    {
     "data": {
      "text/plain": [
       "0.9544997361033344"
      ]
     },
     "execution_count": 7,
     "metadata": {},
     "output_type": "execute_result"
    }
   ],
   "source": [
    "print(\"For m=2:\")\n",
    "simpson_integration(-2,2,1e3,func)"
   ]
  },
  {
   "cell_type": "code",
   "execution_count": 8,
   "metadata": {},
   "outputs": [
    {
     "name": "stdout",
     "output_type": "stream",
     "text": [
      "For m=3:\n"
     ]
    },
    {
     "data": {
      "text/plain": [
       "0.997300203935591"
      ]
     },
     "execution_count": 8,
     "metadata": {},
     "output_type": "execute_result"
    }
   ],
   "source": [
    "print(\"For m=3:\")\n",
    "simpson_integration(-3,3,1e3,func)"
   ]
  },
  {
   "cell_type": "markdown",
   "metadata": {},
   "source": [
    "**Point: 15/15**"
   ]
  },
  {
   "cell_type": "markdown",
   "metadata": {},
   "source": [
    "**Problem 3** : (15 pts) \n",
    "\n",
    "The equation\n",
    "$$\n",
    "f(x) = \\int_{0}^{x}\\frac{1}{\\sqrt{2\\pi}}e^{-t^{2}/2} dt = .45, \n",
    "$$\n",
    "can be solved via Newton's Method.  Using the Fundamental Theorem of Calculus, we readily get that \n",
    "$$\n",
    "f'(x) = \\frac{1}{\\sqrt{2\\pi}}e^{-x^{2}/2}.\n",
    "$$\n",
    "Then we just need a way of approximating the integral in order to evaluate \n",
    "$$\n",
    "f(x) - .45.  \n",
    "$$\n",
    "Use the Trapezoid Method to find the integral and thus the function $f(x)$.  Starting from an initial guess $x_{0} = .5$, what is an approximation to the root $x_{\\ast}$ such that $f(x_{\\ast})=.45$?  How does your approximation to the root change as you change mesh size of the Trapezoid Method?  "
   ]
  },
  {
   "cell_type": "code",
   "execution_count": 9,
   "metadata": {},
   "outputs": [],
   "source": [
    "def trapezoid_integration(a,b,N,f):\n",
    "    exes = np.linspace(a,b,int(N)+1)\n",
    "    funcs = f(exes)\n",
    "    dx = (b-a)/N\n",
    "    return dx/2.*(funcs[0] + funcs[int(N)] + 2.*np.sum(funcs[1:int(N)])) \n"
   ]
  },
  {
   "cell_type": "code",
   "execution_count": 10,
   "metadata": {},
   "outputs": [],
   "source": [
    "def Newton(f,df,x0,n,tol):\n",
    "    x1 =  x0 + (0.45-f(x0,n))/df(x0)\n",
    "    \n",
    "    while np.abs(x1-x0)>=tol:\n",
    "        x0 = x1\n",
    "        x1 = x0 + (0.45-f(x0,n))/df(x0)\n",
    "    \n",
    "    print(\"x = %1.7f\" %x1)"
   ]
  },
  {
   "cell_type": "code",
   "execution_count": 11,
   "metadata": {},
   "outputs": [],
   "source": [
    "dfunc = lambda x: (1/np.sqrt(2.*np.pi)) * np.exp((-x**2.)/2.)\n",
    "func = lambda x,N: trapezoid_integration(0,x,N,dfunc)"
   ]
  },
  {
   "cell_type": "code",
   "execution_count": 12,
   "metadata": {},
   "outputs": [
    {
     "name": "stdout",
     "output_type": "stream",
     "text": [
      "x = 1.6599161\n"
     ]
    }
   ],
   "source": [
    "Newton(func,dfunc,0.5,5,1e-8)"
   ]
  },
  {
   "cell_type": "code",
   "execution_count": 13,
   "metadata": {},
   "outputs": [
    {
     "name": "stdout",
     "output_type": "stream",
     "text": [
      "x = 1.6485764\n"
     ]
    }
   ],
   "source": [
    "Newton(func,dfunc,0.5,10,1e-8)"
   ]
  },
  {
   "cell_type": "code",
   "execution_count": 14,
   "metadata": {},
   "outputs": [
    {
     "name": "stdout",
     "output_type": "stream",
     "text": [
      "x = 1.6448907\n"
     ]
    }
   ],
   "source": [
    "Newton(func,dfunc,0.5,100,1e-8)"
   ]
  },
  {
   "cell_type": "code",
   "execution_count": 15,
   "metadata": {},
   "outputs": [
    {
     "name": "stdout",
     "output_type": "stream",
     "text": [
      "x = 1.6448536\n"
     ]
    }
   ],
   "source": [
    "Newton(func,dfunc,0.5,1e5,1e-8)"
   ]
  },
  {
   "cell_type": "markdown",
   "metadata": {},
   "source": [
    "As the size of the intervals for the trapezoid rule decrease, the approximation for the root decreases, and becomes more precise, since the approximation of $f(x)$ becomes more precise with smaller mesh sizes."
   ]
  },
  {
   "cell_type": "markdown",
   "metadata": {},
   "source": [
    "**Point: 15/15**"
   ]
  },
  {
   "cell_type": "markdown",
   "metadata": {},
   "source": [
    "**Problem 4**: (7pts) \n",
    "\n",
    "Write a program to generate the first 40 terms of a sequence defined by\n",
    "\n",
    "3a) 5pts\n",
    "\n",
    "$$\n",
    "a_{n+1} = \\left\\{\n",
    "\\begin{array}{rl}\n",
    "\\frac{1}{2} a_{n} & \\text{if} ~ a_{n} ~ \\text{is an even number} \\\\\n",
    "3a_{n} + 1 & \\text{if} ~ a_{n} ~ \\text{is an odd number}\n",
    "\\end{array}\n",
    "\\right.\n",
    "$$\n",
    "\n",
    "and $a_1 = 11$"
   ]
  },
  {
   "cell_type": "markdown",
   "metadata": {},
   "source": [
    "3b) 2pts\n",
    "\n",
    "Do the same for $a_1 = 25$. Make a conjecture about this type of sequence."
   ]
  },
  {
   "cell_type": "code",
   "execution_count": 16,
   "metadata": {},
   "outputs": [],
   "source": [
    "def sequence_gen(an):\n",
    "    vector = np.array([an])\n",
    "    for k in range(0,39):\n",
    "        if an%2==0:\n",
    "            an = an/2\n",
    "        else :\n",
    "            an = 3*an + 1\n",
    "        vector = np.append(vector,an)\n",
    "    print(vector)\n",
    "    return vector"
   ]
  },
  {
   "cell_type": "markdown",
   "metadata": {},
   "source": [
    "**(Part A)**"
   ]
  },
  {
   "cell_type": "code",
   "execution_count": 17,
   "metadata": {},
   "outputs": [
    {
     "name": "stdout",
     "output_type": "stream",
     "text": [
      "[11. 34. 17. 52. 26. 13. 40. 20. 10.  5. 16.  8.  4.  2.  1.  4.  2.  1.\n",
      "  4.  2.  1.  4.  2.  1.  4.  2.  1.  4.  2.  1.  4.  2.  1.  4.  2.  1.\n",
      "  4.  2.  1.  4.]\n"
     ]
    }
   ],
   "source": [
    "y=sequence_gen(11)"
   ]
  },
  {
   "cell_type": "markdown",
   "metadata": {},
   "source": [
    "**(Part B)**"
   ]
  },
  {
   "cell_type": "code",
   "execution_count": 18,
   "metadata": {},
   "outputs": [
    {
     "name": "stdout",
     "output_type": "stream",
     "text": [
      "[25. 76. 38. 19. 58. 29. 88. 44. 22. 11. 34. 17. 52. 26. 13. 40. 20. 10.\n",
      "  5. 16.  8.  4.  2.  1.  4.  2.  1.  4.  2.  1.  4.  2.  1.  4.  2.  1.\n",
      "  4.  2.  1.  4.]\n"
     ]
    }
   ],
   "source": [
    "z=sequence_gen(25)"
   ]
  },
  {
   "cell_type": "markdown",
   "metadata": {},
   "source": [
    "**Conjecture:** the sequence does not have a particular trend of increasing or decreasing, nor does it converge to a specific value, however, after a certain point, the sequences tend to repeat 4,2,1."
   ]
  },
  {
   "cell_type": "markdown",
   "metadata": {},
   "source": [
    "**Point: 7/7**"
   ]
  },
  {
   "cell_type": "markdown",
   "metadata": {},
   "source": [
    "**Problem 5** : (10pts): \n",
    "    \n",
    "5a) 3pts - Write a program to find the number $n$ that satisfies\n",
    "$$\n",
    " \\sum_{i=1}^{n} i = 78\n",
    "$$ \n",
    "   \n",
    "\n",
    "5b) 5pts - Write a program to find the limit as $n\\rightarrow \\infty$ of the function $f(n)$ where  \n",
    "\n",
    "$$\n",
    "f(n) = \\sum_{j=1}^{n} \\frac{3}{n} \\left[ \\left(1 + \\frac{3j}{n}\\right)^{3} - 2\\left(1 + \\frac{3j}{n}\\right) \\right]\n",
    "$$\n",
    "\n",
    "5c) (2pts) Plot $f(n)$ versus $n$.  Compare your graph to the result you obtained in (4b).\n",
    "\n"
   ]
  },
  {
   "cell_type": "markdown",
   "metadata": {},
   "source": [
    "**(Part A)**"
   ]
  },
  {
   "cell_type": "code",
   "execution_count": 19,
   "metadata": {},
   "outputs": [
    {
     "name": "stdout",
     "output_type": "stream",
     "text": [
      "n = 12\n",
      "sum = 78\n"
     ]
    }
   ],
   "source": [
    "k=1\n",
    "sums = 1\n",
    "while sums < 78:\n",
    "    k+=1\n",
    "    sums+=k\n",
    "print(\"n = %d\" %k)\n",
    "print(\"sum = %d\" %sums)"
   ]
  },
  {
   "cell_type": "markdown",
   "metadata": {},
   "source": [
    "**(Part B)**\n"
   ]
  },
  {
   "cell_type": "code",
   "execution_count": 20,
   "metadata": {},
   "outputs": [],
   "source": [
    "def sums_code(n): \n",
    "    sums = 0\n",
    "    for j in range(1,int(n)+1):\n",
    "        sums += (3/n)* ( (1+ (3*j / n))**3 - 2* (1+(3*j/n)))\n",
    "    return sums"
   ]
  },
  {
   "cell_type": "code",
   "execution_count": 21,
   "metadata": {},
   "outputs": [
    {
     "data": {
      "text/plain": [
       "99.9375"
      ]
     },
     "execution_count": 21,
     "metadata": {},
     "output_type": "execute_result"
    }
   ],
   "source": [
    "sums_code(2)\n"
   ]
  },
  {
   "cell_type": "code",
   "execution_count": 22,
   "metadata": {},
   "outputs": [
    {
     "data": {
      "text/plain": [
       "57.6375"
      ]
     },
     "execution_count": 22,
     "metadata": {},
     "output_type": "execute_result"
    }
   ],
   "source": [
    "sums_code(10)\n"
   ]
  },
  {
   "cell_type": "code",
   "execution_count": 23,
   "metadata": {},
   "outputs": [
    {
     "data": {
      "text/plain": [
       "49.60837499999999"
      ]
     },
     "execution_count": 23,
     "metadata": {},
     "output_type": "execute_result"
    }
   ],
   "source": [
    "sums_code(100)\n"
   ]
  },
  {
   "cell_type": "code",
   "execution_count": 24,
   "metadata": {
    "scrolled": true
   },
   "outputs": [
    {
     "data": {
      "text/plain": [
       "48.75085500337521"
      ]
     },
     "execution_count": 24,
     "metadata": {},
     "output_type": "execute_result"
    }
   ],
   "source": [
    "sums_code(1e5)"
   ]
  },
  {
   "cell_type": "code",
   "execution_count": 25,
   "metadata": {},
   "outputs": [
    {
     "data": {
      "text/plain": [
       "48.75008550003219"
      ]
     },
     "execution_count": 25,
     "metadata": {},
     "output_type": "execute_result"
    }
   ],
   "source": [
    "sums_code(1e6)"
   ]
  },
  {
   "cell_type": "markdown",
   "metadata": {},
   "source": [
    "**(Part C)**"
   ]
  },
  {
   "cell_type": "code",
   "execution_count": 26,
   "metadata": {},
   "outputs": [
    {
     "data": {
      "text/plain": [
       "Text(0.5, 1.0, 'f(n) vs. n')"
      ]
     },
     "execution_count": 26,
     "metadata": {},
     "output_type": "execute_result"
    },
    {
     "data": {
      "image/png": "[encoded data removed]",
      "text/plain": [
       "<Figure size 432x288 with 1 Axes>"
      ]
     },
     "metadata": {
      "needs_background": "light"
     },
     "output_type": "display_data"
    }
   ],
   "source": [
    "n_s = [2,4,8,16,32,64,100,150, 200,300,500,1000]\n",
    "results = [sums_code(i) for i in n_s]\n",
    "plt.plot(n_s,results)\n",
    "plt.xlabel('$n$')\n",
    "plt.ylabel('$f(n)$')\n",
    "plt.title('f(n) vs. n')"
   ]
  },
  {
   "cell_type": "markdown",
   "metadata": {},
   "source": [
    "**(Comparison:)** The plot of $f(n)$ shows that the function starts to converge just below 50. This is consistent with the results obtained in Part B. that shows the function starts to converge towards 48.75"
   ]
  },
  {
   "cell_type": "markdown",
   "metadata": {},
   "source": [
    "**Point: 10/10**"
   ]
  },
  {
   "cell_type": "markdown",
   "metadata": {},
   "source": [
    "**Problem 6**: (7pts )\n",
    "\n",
    "Given the following sum\n",
    "\n",
    "\n",
    "$$\n",
    "y(n) =  \\sum_{n=0}^{\\infty} \\frac{(-1)^{n}\\pi^{2n+1}}{4^{2n+1}(2n+1)!}\n",
    "$$\n",
    "\n",
    "5a) 2pts - Determine a recurrence relation between the coefficients.\n",
    "\n",
    "5b) 5pts - In Python, develop a tolerance based, recursive, vectorized implementation of this sum and find the limit as $n\\rightarrow \\infty$ of the function $y(n)$. Provide a plot to support your answer (for tolerance $10^{-4}$ and $10^{-8}$). \n",
    " "
   ]
  },
  {
   "cell_type": "markdown",
   "metadata": {},
   "source": [
    "**(Part A)**\n",
    "$$\\begin{aligned}\n",
    "\\frac{a_n}{a_{n-1}}&= \\frac{\\frac{(-1)^n 2^{2n+1}}{4^{2n+1}(2n+1)!}}{\\frac{(-1)^{n-1} 2^{2(n-1)+1}}{4^{2(n-1)+1}(2(n-1)+1)!}}\\\\\n",
    "& = \\frac{(-1)^n\\pi^{2n+1}}{4^{2n+1}(2n+1)!}\\frac{4^{2n-2+1}(2n-2+1)!}{(-1)^{n-1}\\pi^{2n-2+1}} \\\\\n",
    "&= \\frac{(-1)^n\\pi^{2n}\\pi}{4^{2n}4(2n+1)(2n)(2n-1)!}\\frac{4^{2n}4^{-1}(2n-1)!}{(-1)^n(-1)^{-1}\\pi^{2n}\\pi^{-1}} \\\\\n",
    "&= -\\bigg(\\frac{\\pi}{4}\\bigg)^2\\frac{1}{(2n+1)(2n)}\\\\\n",
    "a_n &= -\\bigg(\\frac{\\pi}{4}\\bigg)^2\\frac{a_{n-1}}{(2n+1)(2n)}\n",
    "\\end{aligned}$$\n",
    "$$a_0 = \\frac{(-1)^0 \\pi^{2(0)+1}}{4^{2(0)+1}(2(0)+1)!)}=\\frac{\\pi}{4}$$\n",
    "$$a_n = \\begin{cases}\\frac{\\pi}{4}, &n=0 \\\\\n",
    " -\\bigg(\\frac{\\pi}{4}\\bigg)^2\\frac{a_{n-1}}{(2n+1)(2n)}, &n \\geq 1\n",
    "\\end{cases}$$"
   ]
  },
  {
   "cell_type": "markdown",
   "metadata": {},
   "source": [
    "**(Part B)**"
   ]
  },
  {
   "cell_type": "code",
   "execution_count": 27,
   "metadata": {},
   "outputs": [],
   "source": [
    "def vec_recursion_sum(tol):\n",
    "    n0=0\n",
    "    n=1\n",
    "    an = np.pi/4\n",
    "    sum_vec = np.array([an])\n",
    "    nvals = np.array([n0])\n",
    "    while np.max(np.abs(an))>=tol:\n",
    "        nvals = np.append(nvals,n)\n",
    "        an *= - ((np.pi/4.)**2)/((2*n+1)*(2*n))\n",
    "        n +=1\n",
    "        sum_vec = np.append(sum_vec,an)\n",
    "    sums = sum(sum_vec)\n",
    "    plt.plot(nvals,sum_vec,label ='tolerance = %1.0e'%tol)\n",
    "    plt.xlabel('n')\n",
    "    plt.ylabel('y(n) sum value')\n",
    "    plt.legend(loc=(.5,.75))\n",
    "    plt.title('$y(n)$ with tolerance = %1.0e \\n $y(n) = $ %1.5f'%(tol,sums))\n",
    "    return sums"
   ]
  },
  {
   "cell_type": "code",
   "execution_count": 28,
   "metadata": {},
   "outputs": [
    {
     "data": {
      "text/plain": [
       "0.7071064695751781"
      ]
     },
     "execution_count": 28,
     "metadata": {},
     "output_type": "execute_result"
    },
    {
     "data": {
      "image/png": "[encoded data removed]",
      "text/plain": [
       "<Figure size 432x288 with 1 Axes>"
      ]
     },
     "metadata": {
      "needs_background": "light"
     },
     "output_type": "display_data"
    }
   ],
   "source": [
    "vec_recursion_sum(1e-4)"
   ]
  },
  {
   "cell_type": "code",
   "execution_count": 29,
   "metadata": {},
   "outputs": [
    {
     "data": {
      "text/plain": [
       "0.7071067811796194"
      ]
     },
     "execution_count": 29,
     "metadata": {},
     "output_type": "execute_result"
    },
    {
     "data": {
      "image/png": "[encoded data removed]",
      "text/plain": [
       "<Figure size 432x288 with 1 Axes>"
      ]
     },
     "metadata": {
      "needs_background": "light"
     },
     "output_type": "display_data"
    }
   ],
   "source": [
    "vec_recursion_sum(1e-8)"
   ]
  },
  {
   "cell_type": "markdown",
   "metadata": {},
   "source": [
    "# Problem 6b note"
   ]
  },
  {
   "cell_type": "code",
   "execution_count": 30,
   "metadata": {},
   "outputs": [
    {
     "data": {
      "text/plain": [
       "array([0.78539816, 0.76521179, 0.77938894, 0.78252494, 0.78371956,\n",
       "       0.78429863, 0.78462253, 0.78482183, 0.78495313, 0.78504418,\n",
       "       0.78510989])"
      ]
     },
     "execution_count": 30,
     "metadata": {},
     "output_type": "execute_result"
    },
    {
     "data": {
      "image/png": "[encoded data removed]",
      "text/plain": [
       "<Figure size 432x288 with 1 Axes>"
      ]
     },
     "metadata": {
      "needs_background": "light"
     },
     "output_type": "display_data"
    }
   ],
   "source": [
    "#Problem 6b solution - using a recursive vectorized based approach.\n",
    "#I realize the wordings for Problem 6b is confusing. \n",
    "#We don't need tolerance based approach since we are summing to N. \n",
    "#This was not stated when I uploaded the Midterm. \n",
    "# Therefore, we won't count problem 6b towards the midterm grade. \n",
    "\n",
    "def mysum2(N): # N should be greater than or equal to 1\n",
    "        x = np.linspace(0,int(N),int(N)+1)\n",
    "        YN = np.ones(x.size)\n",
    "        YN[0] = np.pi/4.\n",
    "        pisqrd = (-1.)*np.pi**2\n",
    "        n=0\n",
    "        while n < x.size-1:\n",
    "            n+=1\n",
    "            aj=np.pi/4.\n",
    "            tot = np.pi/4\n",
    "            j=1\n",
    "            while j <= int(x[n]):\n",
    "                aj*= pisqrd/(64*(4*n**2+2*n))\n",
    "                tot +=aj\n",
    "                j+=1\n",
    "            YN[n] = tot\n",
    "        plt.plot(x,YN,color='k', ls='--')\n",
    "        plt.xlabel('$n$')\n",
    "        plt.ylabel('$Y(n)$')\n",
    "        return YN  \n",
    "\n",
    "mysum2(10)"
   ]
  },
  {
   "cell_type": "markdown",
   "metadata": {},
   "source": [
    "**Point: 2/2**"
   ]
  },
  {
   "cell_type": "markdown",
   "metadata": {},
   "source": [
    "**Problem 7**: (10pts )\n",
    "\n",
    "A bullet of $M=2gm$ has been shot vertically into the air and is descending at its terminal speed. The terminal speed is determined by $gM= D_{drag}$ where $g$ is gravity and $M$ is mass, and may be written after evaluating the constants as \n",
    "\n",
    "$$\n",
    "    \\frac{(2)(9.81)}{1000} = 1.4 \\times 10^{-5}v^{1.5} + 1.15 \\times 10^{-5} v^2\n",
    "$$\n",
    "\n",
    " where $v$ is the terminal velocity, $m/sec$. The first term on the right side represents the friction drag, and the second term represents the pressure drag. \n",
    " \n",
    " Determine the terminal velocity by the bisection method with a tolerance of 0.01."
   ]
  },
  {
   "cell_type": "markdown",
   "metadata": {},
   "source": [
    "$$\\begin{aligned}\n",
    "    \\frac{(2)(9.81)}{1000} &= 1.4 \\times 10^{-5}v^{1.5} + 1.15 \\times 10^{-5} v^2 \\\\\n",
    "    0 &=  1.4 \\times 10^{-5}v^{1.5} + 1.15 \\times 10^{-5} v^2 - \\frac{(2)(9.81)}{1000}\\\\\n",
    "    0 &=  1.4 \\times 10^{-5}v^{1.5} + 1.15 \\times 10^{-5} v^2 - 0.01962\n",
    "\\end{aligned}$$"
   ]
  },
  {
   "cell_type": "code",
   "execution_count": 31,
   "metadata": {},
   "outputs": [],
   "source": [
    "def bisection_root_finder(f,a,b,tol):\n",
    "    f_a = f(a)\n",
    "    f_b = f(b)\n",
    "    if f_a*f_b<0:\n",
    "        c=(a+b)/2\n",
    "        guesses = np.array([c])\n",
    "        f_c = f(c)\n",
    "        while np.abs(f_c)>=tol:\n",
    "            if f_a*f_c<0:\n",
    "                b=c\n",
    "            else:\n",
    "                a=c\n",
    "            c=(a+b)/2\n",
    "            guesses=np.append(guesses,c)\n",
    "            f_c = f(c)\n",
    "            \n",
    "        print(\"Terminal velocity is v = %1.3f m/s\" %c)\n",
    "        \n",
    "    else:\n",
    "        print(\"Unable to find terminal velocity in these bounds\")"
   ]
  },
  {
   "cell_type": "code",
   "execution_count": 32,
   "metadata": {},
   "outputs": [
    {
     "name": "stdout",
     "output_type": "stream",
     "text": [
      "Terminal velocity is v = 37.500 m/s\n"
     ]
    }
   ],
   "source": [
    "vel = lambda v: 1.4e-5*v**(1.5)+ 1.15e-5*v**2 - 0.01962\n",
    "bisection_root_finder(vel,15,60,0.01)"
   ]
  },
  {
   "cell_type": "markdown",
   "metadata": {},
   "source": [
    "**Point: 10/10**"
   ]
  },
  {
   "cell_type": "markdown",
   "metadata": {},
   "source": [
    "**Problem 8**: (14pts )\n",
    "\n",
    "The natural logarithm is defined as an integral,\n",
    "\n",
    "$$\n",
    "\\ln(x) = \\int_1^x \\frac{1}{t} \\ dt\n",
    "$$\n",
    "\n",
    "(a) Using the trapezoid rule, write a program to  find approximations to $\\ln(x)$.\n",
    "\n",
    "(b) Show that using the trapezoid rule on the integral  for  $\\ln(x)$ results in the following series approximation (for $x \\in$ [1,2])\n",
    "$$\n",
    "\\ln(x) \\approx  \\frac{x^2-1}{2nx} + \\sum_{k=1}^{n-1} \\frac{x-1}{n+k(x-1)}\n",
    "$$\n",
    "\n",
    "(c) Using the following series approximation for $\\ln(x)$, write a program to find approximations to $\\ln(x)$.\n",
    "$$\n",
    "\\ln(x) \\approx  \\frac{x^2-1}{2nx} + \\sum_{k=1}^{n-1} \\frac{x-1}{n+k(x-1)}\n",
    "$$\n",
    "\n",
    "(d) Using your program in 8(a) and 8(c) find the value of $\\ln(2)$."
   ]
  },
  {
   "cell_type": "markdown",
   "metadata": {},
   "source": [
    "**(Part A)**"
   ]
  },
  {
   "cell_type": "code",
   "execution_count": 33,
   "metadata": {},
   "outputs": [],
   "source": [
    "def natural_log_trapezoid(x,N,f):\n",
    "    exes = np.linspace(1,x,int(N)+1)\n",
    "    fx= f(exes)\n",
    "    dx = (x-1)/N\n",
    "    return dx/2.*(fx[0] + fx[int(N)] + 2.*np.sum(fx[1:int(N)]))"
   ]
  },
  {
   "cell_type": "markdown",
   "metadata": {},
   "source": [
    "**(Part B)**\n",
    "\n",
    "\n",
    "The Trapezoid Rule can be approximated by:\n",
    "$$\\int_a^b f(x) \\hspace{1pt}dx \\approx \\frac{\\delta x}{2}\\bigg[f(a) +f(b) +2\\sum_{j=1}^{N-1}f(x_j) \\bigg]$$\n",
    "Given that,\n",
    "$$\\ln (x) = \\int_1^x \\frac{1}{t}dt$$\n",
    "We define,\n",
    "$$\\begin{aligned}\n",
    "a &= 1,\\\\\n",
    "b &=x, \\\\\n",
    "\\delta x &= \\frac{x-1}{n}, \\\\\n",
    "x_j & = 1+ \\frac{k(x-1)}{n}\\\\\n",
    "&= \\frac{n+k(x-1)}{n}\n",
    "\\end{aligned}$$\n",
    "Then,\n",
    "$$\\begin{aligned} \n",
    "\\ln (x) &= \\int_1^x \\frac{1}{t}dt\\\\\n",
    "& \\approx \\frac{\\delta x}{2}\\bigg[\\frac{1}{1} + \\frac{1}{x} +2 \\sum_{k=1}^{n-1}\\frac{1}{x_j} \\bigg] \\\\\n",
    "& \\approx \\frac{x-1}{2n}\\bigg[ \\frac{x+1}{x} + 2\\sum_{k=1}^{n-1}\\frac{1}{\\frac{n+k(x-1)}{n}}\\bigg] \\\\\n",
    "& \\approx \\frac{x-1}{2n}\\bigg[ \\frac{x+1}{x} + 2\\sum_{k=1}^{n-1}\\frac{n}{n+k(x-1)}\\bigg] \\\\\n",
    "& \\approx  \\frac{(x+1)(x-1)}{2nx} + \\sum_{k=1}^{n-1}\\frac{x-1}{n+k(x-1)} \\\\\n",
    "& \\approx  \\frac{x^2 - 1}{2nx} + \\sum_{k=1}^{n-1}\\frac{x-1}{n+k(x-1)} \\\\\n",
    "\\end{aligned}$$"
   ]
  },
  {
   "cell_type": "code",
   "execution_count": 34,
   "metadata": {},
   "outputs": [],
   "source": [
    "def natural_log_sum(x,n):\n",
    "    sums = 0\n",
    "    for k in range(1,int(n)):\n",
    "        sums +=(x-1)/(n+k*(x-1))\n",
    "    return (x**2-1)/(2*n*x) + sums"
   ]
  },
  {
   "cell_type": "markdown",
   "metadata": {},
   "source": [
    "**(Part D)**"
   ]
  },
  {
   "cell_type": "code",
   "execution_count": 35,
   "metadata": {},
   "outputs": [
    {
     "name": "stdout",
     "output_type": "stream",
     "text": [
      "0.6931471805599453\n"
     ]
    }
   ],
   "source": [
    "print(np.log(2))"
   ]
  },
  {
   "cell_type": "code",
   "execution_count": 36,
   "metadata": {},
   "outputs": [
    {
     "name": "stdout",
     "output_type": "stream",
     "text": [
      "0.6931471805600075\n"
     ]
    }
   ],
   "source": [
    "func = lambda t: 1/t\n",
    "z = natural_log_trapezoid(2,1e6,func)\n",
    "print(z)"
   ]
  },
  {
   "cell_type": "code",
   "execution_count": 37,
   "metadata": {},
   "outputs": [
    {
     "name": "stdout",
     "output_type": "stream",
     "text": [
      "0.6931471805600136\n"
     ]
    }
   ],
   "source": [
    "zedd = natural_log_sum(2,1e6)\n",
    "print(zedd)"
   ]
  },
  {
   "cell_type": "markdown",
   "metadata": {},
   "source": [
    "**Point: 14/14**"
   ]
  },
  {
   "cell_type": "markdown",
   "metadata": {},
   "source": [
    "**Problem 9**: (5 pts) \n",
    "    \n",
    "i) [8 points] Write a python program to find the **cubic root** of a number based on Newton method.\n",
    "\n",
    "ii) [2 points] Using your program in i), compute the root of $a=155$"
   ]
  },
  {
   "cell_type": "markdown",
   "metadata": {},
   "source": [
    "**(Part i)** \n",
    "We want to find the cubic root of a number $a$.\n",
    "We can write, for an arbitrary n:\n",
    "$$x^3 = a $$ \n",
    "Then,\n",
    "$$0 = x^3 - a$$\n",
    "We will denote $f(x)$ as :\n",
    "$$f(x) = x^3 - a$$\n",
    "Then the derivative is given by:\n",
    "$$f'(x) = 3x^2$$"
   ]
  },
  {
   "cell_type": "code",
   "execution_count": 38,
   "metadata": {},
   "outputs": [],
   "source": [
    "def Newton_cubic(f,df,x0,a,tol):\n",
    "    x1 =  x0 -f(x0,a)/df(x0)\n",
    "    \n",
    "    while np.abs(x1-x0)>=tol:\n",
    "        x0 = x1\n",
    "        x1 = x0 -f(x0,a)/df(x0)\n",
    "    \n",
    "    print(\"The cubic root of %d is %1.4f\" %(a,x1))\n"
   ]
  },
  {
   "cell_type": "markdown",
   "metadata": {},
   "source": [
    "**(Part ii)**"
   ]
  },
  {
   "cell_type": "code",
   "execution_count": 39,
   "metadata": {},
   "outputs": [
    {
     "name": "stdout",
     "output_type": "stream",
     "text": [
      "The cubic root of 155 is 5.3717\n"
     ]
    }
   ],
   "source": [
    "fx = lambda x, a: x**3 - a\n",
    "dfx = lambda x: 3*x**2\n",
    "\n",
    "Newton_cubic(fx,dfx,4,155,1e-4)"
   ]
  },
  {
   "cell_type": "markdown",
   "metadata": {},
   "source": [
    "**Point: 5/5**"
   ]
  },
  {
   "cell_type": "markdown",
   "metadata": {},
   "source": [
    "Good job!\n",
    "\n",
    "**Total: 85/85**"
   ]
  }
 ],
 "metadata": {
  "kernelspec": {
   "display_name": "Python 3",
   "language": "python",
   "name": "python3"
  },
  "language_info": {
   "codemirror_mode": {
    "name": "ipython",
    "version": 3
   },
   "file_extension": ".py",
   "mimetype": "text/x-python",
   "name": "python",
   "nbconvert_exporter": "python",
   "pygments_lexer": "ipython3",
   "version": "3.7.4"
  }
 },
 "nbformat": 4,
 "nbformat_minor": 2
}
