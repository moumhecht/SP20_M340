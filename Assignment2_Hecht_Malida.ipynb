{
 "cells": [
  {
   "cell_type": "markdown",
   "metadata": {},
   "source": [
    "## Pg. 551"
   ]
  },
  {
   "cell_type": "markdown",
   "metadata": {},
   "source": [
    "The network of actin filament is considered a viscoelastic and contractile gel. These properties are represented by stress tensors comprising a viscous $\\sigma_v$, elastic $\\sigma_e$, contractile $\\sigma_c$ components, plus an additional pressure component of $\\sigma_p$. Actin is supposed to move under diffusion and convective effects. We assume that at the intracellular level, the cell complies to Newtonian dynamics such that inertial terms are negligibe compared to viscous and elastic foces hence motion ceases as soon as the forces are turned off (<font color='blue'>Lewis and Murray 1991<font color = 'black'>; <font color='blue'>Purcell 1977<font color='black'>)."
   ]
  },
  {
   "cell_type": "markdown",
   "metadata": {},
   "source": [
    "We consider the kintetics of polymerisation and depolymerization of actin filaments by assuming that the filaments either push on the membrane when they polymerise or pull on the membrane when tethered to it, by contracting. We also assume that the contraction of the network creates cytoplasmic flows throughout the cell which lead to an increased pressure. This pressure pushes the membrane outward at locations where the membrane is not firmly linked to the actin network. Thus the model consits of two coupled equations, a force balance equation (<font color = 'blue'>2.1a</font>) that describes the mechanical properties of the network of interconnected actin filaments in the cell cytoplasm adn a reaction-diffusion equation (<font color = 'blue'>2.1b</font>) that describes the concentration of actin, its random movement via diffusion, convective and dilution effects duet o shape movement and its kinetics of polymerisation and depolymerization."
   ]
  },
  {
   "cell_type": "markdown",
   "metadata": {},
   "source": [
    "Let $\\pmb{\\Omega_t }\\subset \\pmb{\\mathscr{R}}^2$ be a simply connected bounded continuously deforming domain representing the cell shape at time $t\\in I =  [0,T_f], T_f>0$ and $\\pmb{\\partial\\Omega_t}$ be the boundary describing the cell. At any given point, $\\pmb{\\textrm{x}} = (x(t),y(t)) \\in \\pmb{\\Omega_t} \\subset \\pmb{\\mathscr{R}}^2$, let $a= a(\\textrm{x}(t), t)$ be the F-actin concentration and $\\pmb{\\textrm{u}} = (u(\\pmb{\\textrm{x}}(t),t), v(\\pmb{\\textrm{x}}(t),t))^T $ be a vector of displacement of the elements of the actin network at position $\\pmb{\\textrm{x}} \\in \\pmb{\\Omega_t}$ at time $t\\in I$. As a result of cell movement we define $\\pmb{\\beta}$ to represent the flow velocity of the element sof the actin network and $\\pmb{\\omega}_n$ the normal velocity of the boundary. Furthermore denote $\\pmb{\\textrm{n}} = (n_x,n_y)$ the outward unit vector normal to the boundary. We note that by defining $\\pmb{\\textrm{u}}$ to be a vector of displacement of the elements of the actin network at position $\\pmb{\\textrm{x}} \\in \\pmb{\\Omega_t}$ at time $t \\in I$, the followng system of equations descirbing the actin dynamics as given by <font color = 'blue'>Stephanou et al.</font> (<font color = 'blue'>2004</font>) models both plasticity and viscoelasticity of the actin network:"
   ]
  },
  {
   "cell_type": "markdown",
   "metadata": {},
   "source": [
    "$$\n",
    "\\begin{aligned}\n",
    " &\\nabla \\cdot (\\pmb{\\sigma}_v + \\pmb{\\sigma}_c + \\pmb{\\sigma}_p) = \\pmb{0} \\hspace{2pt} \\textrm{in} \\hspace{2pt} \\pmb{\\Omega}_t, \\hspace{2pt} t \\in I,& (\\textrm{2.1a}) \\\\\n",
    " &\\frac{\\partial a}{\\partial t} - D_a \\Delta a + \\nabla \\cdot (a\\pmb{\\beta}) = k_a (a_c - a) = 0 \\hspace{4pt}\\textrm{in}\\hspace{2pt} \\pmb{\\Omega}_t, \\hspace{2pt} t \\in I,& (\\textrm{2.1b}) \\\\\n",
    " &\\pmb{\\textrm{u}}(\\pmb{\\textrm{x}}(t),t) = \\pmb{0} \\hspace{2pt} \\textrm{for} \\hspace{2pt} \\pmb{\\textrm{x}} \\in \\pmb{\\Omega}_t, \\hspace{2pt} t= 0, & (\\textrm{2.1c}) \\\\ \n",
    "&a(\\pmb{\\textrm{x}} (t),t) = a_0 \\hspace{2pt} \\textrm{for} \\hspace{2pt} \\pmb{\\textrm{x}} \\in \\pmb{\\Omega}_t, \\hspace{2pt} t = 0, & (\\textrm{2.1d}) \\\\ \n",
    "& \\pmb{\\beta} = \\pmb{\\omega}_n \\hspace{4pt} \\textrm{for} \\hspace{2pt} \\pmb{\\textrm{x}} \\in \\pmb{\\partial\\Omega}_t, \\hspace{4pt} t \\in  I, & (\\textrm{2.1e}) \\\\ \n",
    "& \\pmb{\\sigma}_v \\cdot \\pmb{\\textrm{n}} = \\pmb{\\sigma}_e \\cdot \\pmb{\\textrm{n}} = \\pmb{\\textrm{n}}. \\nabla a = 0 \\hspace{4pt} \\textrm{for} \\hspace{2pt}\\pmb{\\textrm{x}} \\in \\pmb{\\partial\\Omega}_t, \\hspace{2pt} t \\in I, & (\\textrm{2.1f})\n",
    "\\end{aligned}\n",
    "$$"
   ]
  },
  {
   "cell_type": "markdown",
   "metadata": {},
   "source": [
    "where in (<font color = 'blue'>2.1a</font>), $\\pmb{\\sigma}_v$, $\\pmb{\\sigma}_e$, $\\pmb{\\sigma}_c$ and $\\pmb{\\sigma}_p$ are the viscous, elastic, contractile and pressure component stress tensors. These are defined as:"
   ]
  },
  {
   "cell_type": "markdown",
   "metadata": {},
   "source": [
    "$$\n",
    "\\begin{aligned}\n",
    " &\\pmb{\\sigma}_c = \\sigma(a)\\pmb{\\textrm{I}}=\\psi a^2e^{-a/a_{sat}}\\pmb{\\textrm{I}},& (\\textrm{2.2}) \\\\\n",
    " &\\pmb{\\sigma}_v = \\mu_1 \\frac{\\partial \\epsilon}{\\partial t}+ \\mu_2 \\frac{\\partial \\phi}{\\partial t} ,& (\\textrm{2.3}) \n",
    "\\end{aligned}\n",
    "$$"
   ]
  },
  {
   "cell_type": "markdown",
   "metadata": {},
   "source": [
    "## Pg. 557"
   ]
  },
  {
   "cell_type": "markdown",
   "metadata": {},
   "source": [
    "**Table 3** Possibilities of stable and unstable modes to exist\n",
    "\n"
   ]
  },
  {
   "cell_type": "markdown",
   "metadata": {},
   "source": [
    "|Possible conditions $(k^2\\neq 0)$|Types of mode|Sign of Re($\\lambda$)|\n",
    "|:----------------------------------|:-------------|:---------------------|\n",
    "|$b(k^2)>0$ and $c(k^2)>0$|Stable modes for all $k^2>0$|Negative|\n",
    "|$b(k^2)>0$ and $c(k^2)<0$|Unstable modes will exist|Positive|\n",
    "|$b(k^2)<0$ and $c(k^2)>0$|Unstable modes will exist|Positive|\n",
    "|$b(k^2)<0$ and $c(k^2)<0$|Unstable modes will exist|Positive|"
   ]
  },
  {
   "cell_type": "markdown",
   "metadata": {},
   "source": [
    "(<font color = 'blue'>3.6 </font>) that would result in $Re \\lambda (k^2)>0$ for some $k^2>0$. A solution with Re $\\lambda(k^2)>0$ for some $k^2>0$ can exist if $b(k^2)<0$ or $c(k^2)<0$ or both (see Table <font color = 'blue'>3</font>)."
   ]
  },
  {
   "cell_type": "markdown",
   "metadata": {},
   "source": [
    "Observe that $c(k^2)$ can either be positive or negative for all values of $k^2>0$ depending on the value of $p$. In particular, if $p>1+v'$ then $c(k^2)$ is negative for all values of $k^2>0$. $b(k^2)$ can take positive or negative values for some or all of $k^2>0$ and this depends on how small or large $p$ and $\\sigma'(1)$ are when compared with the other parameters in $b(k^2)$. Therefore instability can occur for some $k^2>0$ if one of the following conditions is satisfied:"
   ]
  },
  {
   "cell_type": "markdown",
   "metadata": {},
   "source": [
    "1. $b(k^2)>0$ and $c(k^2)<0$ or\n",
    "2. $b(k^2)<0$ and $c(k^2)>0$ or\n",
    "3. $b(k^2)<0$ and $c(k^2)<0$ or (see Table <font color = 'blue'>3</font> for more detail)."
   ]
  },
  {
   "cell_type": "markdown",
   "metadata": {},
   "source": [
    "Condition 1 and 3 above will have $c(k^2)<0$ for all $k^2>0$. And the dissipation will have an infinite range of unstable modes. Condition 2 can have a dispersion relation with a finite range of unstable modes and shall be used in carrying out the linear stability analysis. We now analyse $b(k^2)<0$ in detail. We have that\n",
    "$$\\begin{aligned}&b(k^2)=\\mu dk^2 + [1+v'+\\mu-\\sigma'(1)-p-\\frac{2}{\\pi}\\delta(l)]:=\\mu dk^2+G<0,&\\textrm{(3.8)}\n",
    "\\end{aligned}$$\n",
    "where $G:=[1+v'+\\mu-\\sigma'(1)-p-\\frac{2}{\\pi}p\\delta(l)]$. Observe that $b(k^2)$ is less than zero for some $k^2$ if $G$ takes negative values and $\\mu dk^2<|{G}|$. Sufficient conditions for $b(k^2)$ to take negative values for some $k^2>0$ are:"
   ]
  },
  {
   "cell_type": "markdown",
   "metadata": {},
   "source": [
    "$$\\begin{aligned}\n",
    "&\\textrm{(a)}& &G = 1+v'+\\mu-\\sigma'(1)-p-\\frac{2}{\\pi}\\delta(l)<0, \\\\\n",
    "&\\textrm{(b)} & &\\mu dk^2<|G| = |1+v'+\\mu-\\sigma'(1)-p-\\frac{2}{\\pi}p\\delta(l)|,\\\\\n",
    "&\\textrm{(c)} & &k^2_{crit}\\geq k^2_1,\n",
    "\\end{aligned}$$"
   ]
  },
  {
   "cell_type": "markdown",
   "metadata": {},
   "source": [
    "where $k^2_{crit} = |G|/\\mu d$ is the value of $k^2$ for which $b(k^2)$ is negative for at least the first wavenumber, $k^2_1$. From conditions 1 and 2 above, we require $p$ or $\\sigma'(1)$ to be sufficiently large in order for $b(k^2)<0$ to exist for some $k^2>0$, where\n",
    "$$\\begin{aligned}\n",
    "\\sigma'(1):= \\frac{\\partial\\sigma(a)}{\\partial a} \\bigg\\rvert_{a=1} = \\psi \\bigg[-\\frac{1}{a_{sat}}e^{-\\frac{1}{a_{sat}}}+2e^{-\\frac{1}{a_{sat}}}\\bigg]. &&&& \\textrm{(3.9)}\n",
    "\\end{aligned}$$"
   ]
  },
  {
   "cell_type": "markdown",
   "metadata": {},
   "source": [
    "From (<font color ='blue'>3.9</font>), we see that $\\sigma'(1)$ is dependent on $a_{sat}$ and also proportional to $\\psi$ (see Fig. <font color = 'blue'>3</font>). In particular, if $a_{sat} = 0.5$ then $\\sigma'(1)=0$ and if $0<a_{sat}<0.5$ then $\\sigma'(1)<0$."
   ]
  }
 ],
 "metadata": {
  "kernelspec": {
   "display_name": "Python 3",
   "language": "python",
   "name": "python3"
  },
  "language_info": {
   "codemirror_mode": {
    "name": "ipython",
    "version": 3
   },
   "file_extension": ".py",
   "mimetype": "text/x-python",
   "name": "python",
   "nbconvert_exporter": "python",
   "pygments_lexer": "ipython3",
   "version": "3.7.4"
  }
 },
 "nbformat": 4,
 "nbformat_minor": 2
}
