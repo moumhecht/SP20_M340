{
 "cells": [
  {
   "cell_type": "code",
   "execution_count": 1,
   "metadata": {},
   "outputs": [],
   "source": [
    "import matplotlib.pyplot as plt\n",
    "import numpy as np"
   ]
  },
  {
   "cell_type": "markdown",
   "metadata": {},
   "source": [
    "**Problem 1** (5 points)\n",
    "\n",
    "The university is organizing a workshop and students will be grouped based on their college. Students will register at the front desk to be able to attend the workshop. Once the college (COE, COS, CE, SPH) is identified, the student is directed to the room where a seminar is being conducted to discuss career opportunities in the college.  \n",
    "Those in COE will go to Room 100.\n",
    "Those in COS will go to Room 200.\n",
    "Those in CE will go to Room 300.\n",
    "Those in SPH will go to Room 400.\n",
    "\n",
    "Write a program to implement this."
   ]
  },
  {
   "cell_type": "code",
   "execution_count": 2,
   "metadata": {},
   "outputs": [
    {
     "name": "stdout",
     "output_type": "stream",
     "text": [
      "The list of colleges are as follows: \n",
      " 1. College of Engineering (COE) \n",
      " 2. College of Science (COS) \n",
      " 3. Continuing Education (CE) \n",
      " 4. School of Public Health (SPH) \n",
      "What college are you enrolled in? (Please enter as an integer): 2\n",
      "\n",
      "\n",
      " You are part of the College of Sciences, please go to Room 200\n"
     ]
    }
   ],
   "source": [
    "while True:\n",
    "    print(\"The list of colleges are as follows: \\n 1. College of Engineering (COE) \\n 2. College of Science (COS) \\n 3. Continuing Education (CE) \\n 4. School of Public Health (SPH) \")\n",
    "    college = int(input(\"What college are you enrolled in? (Please enter as an integer): \"))\n",
    "    if college == 1:\n",
    "        print('\\n\\n You are part of the College of Engineering, please go to Room 100')\n",
    "    elif college == 2:\n",
    "        print('\\n\\n You are part of the College of Sciences, please go to Room 200')\n",
    "    elif college == 3:\n",
    "        print('\\n\\n You are part of Continuing Education please go to Room 300')\n",
    "    else:\n",
    "        print('\\n\\n You are part of the School of Public Health, please go to Room 400')\n",
    "    break"
   ]
  },
  {
   "cell_type": "markdown",
   "metadata": {},
   "source": [
    "**Problem 2** (5 points)\n",
    "Write a program that utilizes a while loop to calculate the sum and average of integers in a vector that begins from $1$ to $n$. The value of $n$ will be specified by the user on the keyboard. \n",
    "\n",
    "The user will be asked to enter a value for $n$ and your program will determine the sum and average of the numbers. \n",
    "\n",
    "Test your code with n = 4 and n=1000000."
   ]
  },
  {
   "cell_type": "code",
   "execution_count": 3,
   "metadata": {},
   "outputs": [
    {
     "name": "stdout",
     "output_type": "stream",
     "text": [
      "Enter a value for n:4\n",
      "n = 4\n",
      "Sum = 10\n",
      "Average = 2.50\n",
      "\n",
      " \n",
      " Do you want to compute another  sum and average? (Y/N): y\n",
      "Enter a value for n:1000000\n",
      "n = 1000000\n",
      "Sum = 500000500000\n",
      "Average = 500000.50\n",
      "\n",
      " \n",
      " Do you want to compute another  sum and average? (Y/N): n\n"
     ]
    }
   ],
   "source": [
    "while True:\n",
    "    n = int(input('Enter a value for n:'))\n",
    "    print('n = %d' %n)\n",
    "    n_vec = np.linspace(1,n,n)\n",
    "    sums = (sum(n_vec))\n",
    "    print('Sum = %d' %sums)\n",
    "    ave = sums/n\n",
    "    print(\"Average = %1.2f\" %ave)\n",
    "    choice = input(\"\\n \\n Do you want to compute another  sum and average? (Y/N): \")\n",
    "    if ((choice == 'n') or (choice == 'N')):\n",
    "        break"
   ]
  },
  {
   "cell_type": "markdown",
   "metadata": {},
   "source": [
    "**Problem 3** (5 points)\n",
    "Given the data in the table below, use a linear interpolant to find the value of $y$ when $x=16$.\n",
    "\n",
    "\n",
    "| $x$ |  $y$=$f(x)$ \n",
    "| :- |:-----------: \n",
    "|15 | 362.78 \n",
    "|20 |517.35\n"
   ]
  },
  {
   "cell_type": "markdown",
   "metadata": {},
   "source": [
    "Given that we can write our linear interpolant as:\n",
    "$$y = f_1(x) = f(x_0) +\\frac{f(x_1)-f(x_0)}{x_1-x_0}(x-x_0)$$\n",
    "We can then say that: \n",
    "$x_ 0 = 15$ and $f(x_0) = 362.78$, and we can also say that $x_1 = 20$ and $f(x_1) = 517.35$\n",
    "Then, our linear interpolant is given by:\n",
    "$$y = f_1(x) = 362.78 +\\frac{ 517.35-362.78}{20-15}(x-15)$$\n",
    "And then, for $x=16$:\n",
    "$$\\begin{aligned}\n",
    "f_1(16)& = 362.78 +\\frac{ 154.57}{20-15}(16-15) \\\\\n",
    "& = 362.78+\\frac{154.57}{5}\\\\\n",
    "& = 362.78+ 30.914\\\\\n",
    "&= 393.694\n",
    "\\end{aligned}$$\n"
   ]
  },
  {
   "cell_type": "markdown",
   "metadata": {},
   "source": [
    "**Problem 4** (5 points)\n",
    "Given the data in the table below, use a linear interpolant to find the value of $y$ when $x=16$.\n",
    "\n",
    "\n",
    "| $x$ |  $y$=$f(x)$ \n",
    "| :- |:-----------: \n",
    "|10 | 227.04\n",
    "|15 | 362.78 \n",
    "|20 | 517.35\n"
   ]
  },
  {
   "cell_type": "markdown",
   "metadata": {},
   "source": [
    "Given that we can write our quadratic interpolant as:\n",
    "$$y = f_1(x) = f(x_0) +\\frac{f(x_1)-f(x_0)}{x_1-x_0}(x-x_0)+ \\frac{\\frac{f(x_2)-f(x_1)}{x_2-x_1}-\\frac{f(x_1)-f(x_0)}{x_1-x_0}}{x_2-x_0}(x-x_0)(x-x_1)$$\n",
    "We can then say that: \n",
    "$x_ 0 = 10$ and $f(x_0) = 227.04$,  $x_1 = 15$ and $f(x_1) = 362.78$, and $x_2 = 20$ and $d(x_2) = 517.35$.\n",
    "Then, our quadratic interpolant is given by:\n",
    "$$\\begin{aligned} y = f_2(x) &= 227.04+ \\frac{362.78-227.04}{15-10}(x-227.04) + \\frac{\\frac{517.35-362.78}{20-15}-\\frac{362.78-227.04}{15-10}}{20-10}(x-227.04)(x-362.78)\\\\\n",
    " & = 227.04 + \\frac{135.74}{5}(x - 227.04) + \\frac{\\frac{154.57}{5}-\\frac{135.74}{5}}{10} \\\\\n",
    "& = 227.04 + 27.148(x-227.04) + 0.3766(x-227.04)(x-362.78)\\\\\n",
    "f(16) &= 227.04 + 27.148(16-227.04) + 0.3766(16-227.04)(16-362.78) \\\\\n",
    "&=227.04 -27.148(211.04) + 0.3766(211.04)(346.78)\\\\\n",
    "& = 227.04 -5729.31392 + 27561.2643\\\\\n",
    "& = 22058.9904\n",
    "\\end{aligned}$$\n"
   ]
  },
  {
   "cell_type": "markdown",
   "metadata": {},
   "source": [
    "**Problem 5** (12 points)\n",
    "\n",
    "Watch the lecture on Newton's divided difference interpolation.\n",
    "\n",
    "In the table below, we display the finite divided differences for the Newton’s Interpolating Polynomials.\n",
    "\n",
    "\n",
    "| $x$ | $f$( ) | $f$[ , ]                |  $f$[ , , ]         | $f$[ , , , ]|\n",
    "| :-: |-------: | :--------:| :--------: | :--------:|\n",
    "|$x_0$| $f$($x_0$) | $f $[ $x_1$,$x_0$ ] |$f$ [$x_2$ , $x_1$ , $x_0$] |$f$ [$x_3$ , $x_2$ , $x_1$ , $x_0$]|\n",
    "|$x_1$| $f$($x_1$)  |$f $[ $x_2$,$x_1$ ]  |$f$ [$x_3$ , $x_2$ , $x_1$]|\n",
    "|$x_2$| $f$($x_2$)  | $f $[ $x_3$,$x_2$ ] |  \n",
    "|$x_3$| $f$($x_3$)  | \n",
    "\n",
    "The first two columns are provided for you, complete the remaining part of the table below for  $f $[ $x_1$,$x_0$ ],$f $[ $x_2$,$x_1$ ], $f $[ $x_3$,$x_2$ ], $f$ [$x_2$ , $x_1$ , $x_0$] , $f$ [$x_3$ , $x_2$ , $x_1$], and $f$ [$x_3$ , $x_2$ , $x_1$ , $x_0$].\n",
    "\n",
    "| $x$ | $f$( ) | $f$[ , ]                |  $f$[ , , ]         | $f$[ , , , ]|\n",
    "| :-: |:-------: | :--------:| :--------: | :--------:|\n",
    "|$4$| 0.6020600 |  | |  |\n",
    "|$4.5$| 0.6532125  |  | |\n",
    "|$5.5$| 0.7403627  |  |  \n",
    "|$6$| 0.7781513  |"
   ]
  },
  {
   "cell_type": "markdown",
   "metadata": {},
   "source": [
    "$$\\begin{aligned}\n",
    "f[x_1,x_0] &= \\frac{f(x_1) - f(x_0)}{x_1 - x_0}& = \\frac{0.6532125-0.6020600}{4.5-4} &=0.102305\\\\\n",
    "f[x_2,x_1] &=\\frac{f(x_2) - f(x_1)}{x_2 - x_1} &= \\frac{0.7403627-0.6532125}{5.5-4.5} &=0.0871502\\\\\n",
    "f[x_3,x_2] &= \\frac{f(x_2) - f(x_1)}{x_2 - x_1}& = \\frac{0.7781513-0.7403627}{6-5.5}& =0.0755772\\\\\n",
    "f[x_2,x_1,x_0] &= \\frac{f[x_2,x_1]-f[x_1,x_0]}{x_2 - x_0}& = \\frac{0.0871502-0.102305}{5.5-4}& =-0.0101032\\\\\n",
    "f[x_3,x_2,x_1] &= \\frac{f[x_3,x_2]-f[x_2,x_1]}{x_3 - x_1}& = \\frac{0.0755772-0.0871502}{6-4.5}& =-0.00771533\\\\\n",
    "f[x_3,x_2,x_1,x_1] &= \\frac{f[x_3,x_2,x_1]-f[x_2,x_1,x_0]}{x_3 - x_0}& = \\frac{-0.00771533-(-0.0101032)}{6-4}& =0.001193935\\\\\n",
    "\\end{aligned}$$"
   ]
  },
  {
   "cell_type": "markdown",
   "metadata": {},
   "source": [
    "| $x$ | $f$( ) | $f$[ , ]                |  $f$[ , , ]         | $f$[ , , , ]|\n",
    "| :-: |:-------: | :--------:| :--------: | :--------:|\n",
    "|$4$| 0.6020600 | 0.102305 |-0.0101032 | 0.001193935 |\n",
    "|$4.5$| 0.6532125  |0.0871502  | -0.00771533|\n",
    "|$5.5$| 0.7403627  | 0.0755772 |  \n",
    "|$6$| 0.7781513  |"
   ]
  },
  {
   "cell_type": "markdown",
   "metadata": {},
   "source": [
    "**Problem 6** (12 points)\n",
    "Given the following data points in the table:\n",
    "\n",
    "| $x_i$ |  $y$=$f(x_i)$ \n",
    "| :- |:-----------: \n",
    "|0 | 1 \n",
    "|0.5 |1.8987\n",
    "|1 |3.7183\n",
    "|2 |11.3891\n",
    "\n",
    "**Problem 6.a** Compute the Lagrange interpolation polynomial of degree 3 from the data in the table (you may use the  functions lagran_interp() and lfun() from Lecture Eleven notes on GitHub), then use it to estimate the value of f(x) for `x = np.linspace(0,2,20)`. \n"
   ]
  },
  {
   "cell_type": "markdown",
   "metadata": {},
   "source": [
    "We have 4 data points, so $n=3$. Then our lagrange polynomial can be expanded to be:\n",
    "$$\\begin{aligned}\n",
    "f_3(x) &= L_0(x)f(x_0) + L_1(x) f(x_1) + L_2(x) f(x_2)+ L_3(x) f(x_3) \\\\\n",
    "& = (1) L_0(x) + (1.8987) L_1(x) + (3.7183) L_2(x) + (11.3891) L_3(x)\n",
    "\\end{aligned}$$\n",
    "Then, the weighting factors can be written as:\n",
    "$$\\begin{aligned}\n",
    "L_0(x) & = \\bigg(\\frac{x - 1.8987}{1-1.8987}\\bigg)\\bigg(\\frac{x - 3.7183}{1-3.7183}\\bigg)\\bigg(\\frac{x -11.3891}{1-11.3891}\\bigg) \\\\\n",
    "L_1(x) & = \\bigg(\\frac{x - 1}{1.8987-1}\\bigg)\\bigg(\\frac{x - 3.7183}{1.8987-3.7183}\\bigg)\\bigg(\\frac{x -11.3891}{1.8987-11.3891}\\bigg) \\\\\n",
    "L_2(x) & = \\bigg(\\frac{x - 1}{3.7183-1}\\bigg)\\bigg(\\frac{x - 1.8987}{3.7183-1.8987}\\bigg)\\bigg(\\frac{x -11.3891}{3.7183-11.3891}\\bigg) \\\\\n",
    "L_3(x) & = \\bigg(\\frac{x - 1}{11.3891-1}\\bigg)\\bigg(\\frac{x - 1.8987}{11.3891-1.8987}\\bigg)\\bigg(\\frac{x -3.7183}{11.3891-3.7183}\\bigg) \\\\\n",
    "\\end{aligned}$$\n",
    "We find the interpolating polynomial to be:\n",
    "$$\\begin{aligned}\n",
    "P_3(x) & = -\\bigg(\\frac{x - 1.8987}{0.8987}\\bigg)\\bigg(\\frac{x - 3.7183}{2.7183}\\bigg)\\bigg(\\frac{x -11.3891}{10.3891}\\bigg) \\\\\n",
    "& + (1.8987)\\bigg(\\frac{x - 1}{0.8987}\\bigg)\\bigg(\\frac{x - 3.7183}{1.8196}\\bigg)\\bigg(\\frac{x -11.3891}{9.4904}\\bigg) \\\\\n",
    "& -(3.7183) \\bigg(\\frac{x - 1}{2.7183}\\bigg)\\bigg(\\frac{x - 1.8987}{1.8196}\\bigg)\\bigg(\\frac{x -11.3891}{8.2061}\\bigg) \\\\\n",
    "& +(11.3891) \\bigg(\\frac{x - 1}{10.3891}\\bigg)\\bigg(\\frac{x - 1.8987}{9.4904}\\bigg)\\bigg(\\frac{x -3.7183}{8.2061}\\bigg) \\\\\n",
    "\\end{aligned}$$"
   ]
  },
  {
   "cell_type": "code",
   "execution_count": 4,
   "metadata": {},
   "outputs": [],
   "source": [
    "def weight(x_i,j,x):\n",
    "    L_i = np.ones(x.size)\n",
    "    n = x_i.size\n",
    "    for i in range(0,n):\n",
    "        if i !=j:\n",
    "            L_i *= ((x-x_i[i]) / float(x_i[j]-x_i[i]))\n",
    "    return L_i"
   ]
  },
  {
   "cell_type": "code",
   "execution_count": 5,
   "metadata": {},
   "outputs": [],
   "source": [
    "def Lagrange(x_i,f_i,x):\n",
    "    n = f_i.size\n",
    "    polynomial_i = np.zeros(x.size)\n",
    "    for k in range(0,n):\n",
    "        polynomial_i +=f_i[k]*weight(x_i,k,x)\n",
    "    return polynomial_i"
   ]
  },
  {
   "cell_type": "code",
   "execution_count": 6,
   "metadata": {},
   "outputs": [],
   "source": [
    "exes = np.array([0,0.5,1,2])\n",
    "effs = np.array([1,1.8987,3.7183,11.3891])\n",
    "x = np.linspace(0,2,20)\n",
    "eff_interpolated = Lagrange(exes,effs,x)"
   ]
  },
  {
   "cell_type": "markdown",
   "metadata": {},
   "source": [
    "**Problem 6.a.i** Plot the data in the table (use red astericks) \n",
    "\n",
    "**Problem 6.a.ii** on the same figure, plot `x = np.linspace(0,2,20)` against the estimated values of $f(x)$ obtained using lagrange interpolation. (use black astericks)"
   ]
  },
  {
   "cell_type": "code",
   "execution_count": 7,
   "metadata": {},
   "outputs": [
    {
     "data": {
      "text/plain": [
       "<matplotlib.legend.Legend at 0x256d4078cc8>"
      ]
     },
     "execution_count": 7,
     "metadata": {},
     "output_type": "execute_result"
    },
    {
     "data": {
      "image/png": "[encoded data removed]",
      "text/plain": [
       "<Figure size 432x288 with 1 Axes>"
      ]
     },
     "metadata": {
      "needs_background": "light"
     },
     "output_type": "display_data"
    }
   ],
   "source": [
    "plt.plot(exes,effs,\"*\",c = 'r', label = 'f(x)')\n",
    "plt.plot(x,eff_interpolated,\"*\", c = 'k', label = 'Interpolated Points')\n",
    "plt.title('Third Degree Lagrange Polynomial')\n",
    "plt.xlabel('$x$')\n",
    "plt.ylabel('$P_3(x)$')\n",
    "plt.legend(loc=(.1,.6))"
   ]
  },
  {
   "cell_type": "markdown",
   "metadata": {},
   "source": [
    "**Problem 6.b** Write a program that generates a cubic interpolant of the Newton's divided difference polynomial for the data in the table above. Use the cubic interpolant to estimate the value of $f(x)$ for `x = np.linspace(0,2,20)`.\n",
    "\n"
   ]
  },
  {
   "cell_type": "code",
   "execution_count": 8,
   "metadata": {},
   "outputs": [],
   "source": [
    "def newton(x,fx):\n",
    "    n = len(x)\n",
    "    matrix = np.zeros([n,n])\n",
    "    matrix[::,0]= fx\n",
    "    for j in range(1,n):\n",
    "        for i in range(n-j):\n",
    "            matrix[i][j] = (matrix[i+1][j-1] - matrix[i][j-1]) / (x[i+j] - x[i])\n",
    "    return matrix[0]\n"
   ]
  },
  {
   "cell_type": "code",
   "execution_count": 9,
   "metadata": {},
   "outputs": [],
   "source": [
    "def poly(x,fx,x_int):\n",
    "    coeff = newton(x,fx)\n",
    "    return coeff[0]+ coeff[1]*(x_int-x[0])+  coeff[2]*(x_int-x[0])*(x_int-x[1])+  coeff[3]*(x_int-x[0])*(x_int-x[1])*(x_int-x[2])\n"
   ]
  },
  {
   "cell_type": "code",
   "execution_count": 10,
   "metadata": {},
   "outputs": [],
   "source": [
    "x = np.linspace(0,2,20)\n",
    "y_interpolated = poly(exes,effs,x)"
   ]
  },
  {
   "cell_type": "markdown",
   "metadata": {},
   "source": [
    "**Problem 6.b.i** Plot the estimated values of $f(x)$ obtained using the cubic interpolant of the Newton's divided difference polynomial against `x = np.linspace(0,2,20)`  (use green astericks). \n",
    "\n",
    "**Problem 6.b.ii** On the same figure, plot the estimated values of $f(x)$ obtained via lagrange interpolation against `x = np.linspace(0,2,20)` (use blue astericks). \n"
   ]
  },
  {
   "cell_type": "code",
   "execution_count": 11,
   "metadata": {},
   "outputs": [
    {
     "data": {
      "text/plain": [
       "Text(0, 0.5, 'Interpolated Polynomial')"
      ]
     },
     "execution_count": 11,
     "metadata": {},
     "output_type": "execute_result"
    },
    {
     "data": {
      "image/png": "[encoded data removed]",
      "text/plain": [
       "<Figure size 432x288 with 1 Axes>"
      ]
     },
     "metadata": {
      "needs_background": "light"
     },
     "output_type": "display_data"
    }
   ],
   "source": [
    "plt.plot(x,y_interpolated,'*',c= 'g', label = 'Newton')\n",
    "plt.plot(x,eff_interpolated,\"*\", c = 'b', label = 'Lagrange')\n",
    "plt.legend(loc=(.1,.6))\n",
    "plt.title('Comparison of interpolating polynomials')\n",
    "plt.xlabel('x')\n",
    "plt.ylabel('Interpolated Polynomial')"
   ]
  },
  {
   "cell_type": "markdown",
   "metadata": {},
   "source": [
    "\n",
    "**Problem 6.b.iii** Plot log (to base 10) of the difference between the estimate of $f(x)$ obtained using lagrange interpolation and cubic interpolant of the Newton's divided difference polynomial."
   ]
  },
  {
   "cell_type": "code",
   "execution_count": 12,
   "metadata": {},
   "outputs": [
    {
     "data": {
      "text/plain": [
       "Text(0, 0.5, '$log_{10}$(difference)')"
      ]
     },
     "execution_count": 12,
     "metadata": {},
     "output_type": "execute_result"
    },
    {
     "data": {
      "image/png": "[encoded data removed]",
      "text/plain": [
       "<Figure size 432x288 with 1 Axes>"
      ]
     },
     "metadata": {
      "needs_background": "light"
     },
     "output_type": "display_data"
    }
   ],
   "source": [
    "diff = np.ma.log10(np.abs(y_interpolated-eff_interpolated))\n",
    "plt.plot(x,diff)\n",
    "plt.title('Difference between interpolating polynomials')\n",
    "plt.xlabel('x')\n",
    "plt.ylabel('$log_{10}$(difference)')"
   ]
  }
 ],
 "metadata": {
  "kernelspec": {
   "display_name": "Python 3",
   "language": "python",
   "name": "python3"
  },
  "language_info": {
   "codemirror_mode": {
    "name": "ipython",
    "version": 3
   },
   "file_extension": ".py",
   "mimetype": "text/x-python",
   "name": "python",
   "nbconvert_exporter": "python",
   "pygments_lexer": "ipython3",
   "version": "3.7.6"
  }
 },
 "nbformat": 4,
 "nbformat_minor": 2
}
