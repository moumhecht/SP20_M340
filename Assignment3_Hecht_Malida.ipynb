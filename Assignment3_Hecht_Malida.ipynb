{
 "cells": [
  {
   "cell_type": "markdown",
   "metadata": {},
   "source": [
    "**Problem 1.1:**\n",
    "$$\\begin{aligned}\n",
    "&\\int\\cos^2(3x) dx & = \\frac{1}{2} \\int \\big( 1 + \\cos(6x) \\big) dx \\\\\n",
    "& & = \\frac{1}{2}x + \\frac{1}{2}\\int \\cos(6x)dx\\\\\n",
    "& & = \\frac{1}{2}x + \\frac{1}{12}\\sin(6x)+C \\end{aligned} $$\n",
    "\n",
    "Using u-substitution with $u = 6x$.\n",
    "$$\\begin{aligned}\n",
    "& u=6x \\to du =6dx \\to dx=\\frac{1}{6}du\n",
    "\\end{aligned}$$"
   ]
  },
  {
   "cell_type": "markdown",
   "metadata": {},
   "source": [
    "**Problem 1.2:**\n",
    "$$\\begin{aligned} \n",
    "\\int\\big(\\frac{1}{x^2}-\\frac{4}{x^3}\\big)dx &= \\int \\big(x^{-2} dx - 4 x^{-3} \\big) dx \\\\\n",
    " &= -x^{-1} + \\frac{4}{2} x^{-2}+C \\\\ \n",
    " & = -\\frac{1}{x}+ \\frac{2}{x^2}+C\n",
    "\\end{aligned}$$"
   ]
  },
  {
   "cell_type": "markdown",
   "metadata": {},
   "source": [
    "**Problem 1.3:**\n",
    "$$\\begin{aligned}\n",
    "\\int\\frac{x}{\\sqrt{1-4x^2}}dx &=-\\frac{1}{8}\\int\\frac{x}{\\sqrt{u}}\\frac{du}{x} \\\\\n",
    "&= -\\frac{1}{8}\\int u^{-\\frac{1}{2}}du \\\\ \n",
    "&= -\\frac{2}{8} u^{\\frac{1}{2}} +C \\\\ \n",
    "&= -\\frac{1}{4} \\sqrt{1-4x^2}+C\n",
    "\\end{aligned}$$\n",
    "\n",
    "Using u-substitution $u = 1-4x^2$\n",
    "$$u = 1-4x^2 \\to du = -8x dx \\to dx= -\\frac{du}{8x}$$"
   ]
  },
  {
   "cell_type": "code",
   "execution_count": 1,
   "metadata": {},
   "outputs": [],
   "source": [
    "import numpy as np"
   ]
  },
  {
   "cell_type": "markdown",
   "metadata": {},
   "source": [
    "**Problem 2**\n",
    "Write a function called Lettergrade that takes one scalar input representing the grade of a student. Determine the letter grade of the student based on the input. Test the program with folllowing grades: 95.5, 34.9, 78.4, 87.5"
   ]
  },
  {
   "cell_type": "code",
   "execution_count": 2,
   "metadata": {},
   "outputs": [],
   "source": [
    "def Lettergrade (grade): # Create a function called Lettergrade\n",
    "    if ((grade)>=90.0 and (grade)<=100.0):\n",
    "        print(\"You scored %3.1f on the test, your letter grade is A\" %grade)\n",
    "    elif ((grade)>=80.0 and (grade)<90.0):\n",
    "        print(\"You scored %3.1f on the test, your letter grade is B\" %grade)\n",
    "    elif ((grade)>=70.0 and (grade)<80.0):\n",
    "        print(\"You scored %3.1f on the test, your letter grade is C\" %grade)\n",
    "    else:\n",
    "        print(\"You scored %3.1f on the test, your letter grade is F\" %grade)\n",
    "        return"
   ]
  },
  {
   "cell_type": "code",
   "execution_count": 5,
   "metadata": {},
   "outputs": [
    {
     "name": "stdout",
     "output_type": "stream",
     "text": [
      "You scored 95.5 on the test, your letter grade is A\n"
     ]
    }
   ],
   "source": [
    "Lettergrade(95.5)"
   ]
  },
  {
   "cell_type": "code",
   "execution_count": 3,
   "metadata": {},
   "outputs": [
    {
     "name": "stdout",
     "output_type": "stream",
     "text": [
      "You scored 34.9 on the test, your letter grade is F\n"
     ]
    }
   ],
   "source": [
    "Lettergrade(34.9)"
   ]
  },
  {
   "cell_type": "code",
   "execution_count": 4,
   "metadata": {},
   "outputs": [
    {
     "name": "stdout",
     "output_type": "stream",
     "text": [
      "You scored 78.4 on the test, your letter grade is C\n"
     ]
    }
   ],
   "source": [
    "Lettergrade(78.4)"
   ]
  },
  {
   "cell_type": "code",
   "execution_count": 6,
   "metadata": {},
   "outputs": [
    {
     "name": "stdout",
     "output_type": "stream",
     "text": [
      "You scored 87.5 on the test, your letter grade is B\n"
     ]
    }
   ],
   "source": [
    "Lettergrade(87.5)"
   ]
  },
  {
   "cell_type": "markdown",
   "metadata": {},
   "source": [
    "**Problem 3.1:**\n",
    "$$ \\begin{aligned}\n",
    "\\sum_{j=0}^{\\infty} 3^{j/2}x^{2j} &= \\sum_{j=0}^{\\infty}(3^{1/2}x^2)^j \\\\\n",
    "&= \\frac{1}{1-3^{1/2}x^2}\n",
    "\\end{aligned}$$\n",
    "$$\\begin{aligned}\n",
    "|3^{1/2}x^2|<1 &\\longleftrightarrow |x^2| <\\frac{1}{3^{1/2}} \\\\\n",
    "& \\longleftrightarrow |x|<\\sqrt{\\frac{1}{3^{1/2}}} \\\\\n",
    "& \\longleftrightarrow |x|<\\frac{1}{3^{1/4}}\n",
    "\\end{aligned}$$\n",
    "$$\\sum_{j=0}^{\\infty} 3^{j/2}x^{2j} = \\frac{1}{1-3^{1/2}x^2}, \\hspace{2pt}|x|<\\frac{1}{3^{1/4}}$$"
   ]
  },
  {
   "cell_type": "markdown",
   "metadata": {},
   "source": [
    "**Problem 3.2:**\n",
    "$$\\begin{aligned}\n",
    "\\sum_{j=0}^{\\infty} \\cos^{5j}(x) &= \\sum_{j=0}^{\\infty}\\big(\\cos^5(x)\\big)^j\\\\\n",
    "&=\\frac{1}{1-\\cos^5(x)}\n",
    "\\end{aligned}$$\n",
    "\n",
    "$$\\begin{aligned}\n",
    "|\\cos^5(x)| <1 &\\longleftrightarrow -1<\\cos^5(x)<1 \\\\\n",
    "& \\longleftrightarrow -1<\\cos(x)<1 \\\\\n",
    "& \\longleftrightarrow 0<x<\\pi\n",
    "\\end{aligned}$$\n",
    "$$\\sum_{j=0}^{\\infty} \\cos^{5j}(x)=\\frac{1}{1-\\cos^5(x)}, \\hspace{2pt}0<x<\\pi $$"
   ]
  }
 ],
 "metadata": {
  "kernelspec": {
   "display_name": "Python 3",
   "language": "python",
   "name": "python3"
  },
  "language_info": {
   "codemirror_mode": {
    "name": "ipython",
    "version": 3
   },
   "file_extension": ".py",
   "mimetype": "text/x-python",
   "name": "python",
   "nbconvert_exporter": "python",
   "pygments_lexer": "ipython3",
   "version": "3.7.4"
  }
 },
 "nbformat": 4,
 "nbformat_minor": 2
}
